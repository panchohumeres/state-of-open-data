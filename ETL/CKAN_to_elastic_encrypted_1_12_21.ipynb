{
 "cells": [
  {
   "cell_type": "code",
   "execution_count": 3,
   "metadata": {},
   "outputs": [],
   "source": [
    "import requests\n",
    "import pandas as pd\n",
    "import numpy as np\n",
    "from elasticsearch import Elasticsearch\n",
    "import os\n",
    "from datetime import datetime as dt\n",
    "import os.path\n",
    "from os import path\n",
    "import sys\n",
    "from importlib import reload\n",
    "import copy\n",
    "import pickle"
   ]
  },
  {
   "cell_type": "code",
   "execution_count": 6,
   "metadata": {},
   "outputs": [],
   "source": [
    "sys.path.append('..')"
   ]
  },
  {
   "cell_type": "code",
   "execution_count": 7,
   "metadata": {},
   "outputs": [
    {
     "data": {
      "text/plain": [
       "<module 'modules.Elastic_Module' from '/home/francisco/Desktop/repos/opendata/ETL/../modules/Elastic_Module.py'>"
      ]
     },
     "execution_count": 7,
     "metadata": {},
     "output_type": "execute_result"
    }
   ],
   "source": [
    "import modules.Elastic_Module\n",
    "reload(modules.Elastic_Module)"
   ]
  },
  {
   "cell_type": "code",
   "execution_count": 8,
   "metadata": {},
   "outputs": [],
   "source": [
    "from modules.Elastic_Module import *"
   ]
  },
  {
   "cell_type": "code",
   "execution_count": 9,
   "metadata": {},
   "outputs": [],
   "source": [
    "url_ckan='https://datos.gob.cl/api/3/action/package_list'\n",
    "url_package='https://datos.gob.cl/api/3/action/package_show?id='\n",
    "url_package_search='https://datos.gob.cl/api/3/action/package_search?'"
   ]
  },
  {
   "cell_type": "code",
   "execution_count": 13,
   "metadata": {},
   "outputs": [],
   "source": [
    "#Headers user agent simular browser para no obtener error 403 (prohibido)\n",
    "headers = {'User-Agent': 'Mozilla/5.0 (X11; Linux x86_64) AppleWebKit/537.36 (KHTML, like Gecko) Chrome/96.0.4664.45 Safari/537.36',\n",
    "}"
   ]
  },
  {
   "cell_type": "code",
   "execution_count": 16,
   "metadata": {},
   "outputs": [],
   "source": [
    "#Listas de paquetes ckan (con sus ID)\n",
    "ckan_packages=requests.get(url_ckan,headers=headers) #consultar api\n",
    "ckan_packages=ckan_packages.json() #convertir respuesta a json"
   ]
  },
  {
   "cell_type": "code",
   "execution_count": 17,
   "metadata": {},
   "outputs": [],
   "source": [
    "#OBTENER TODOS LOS PAQUETES DE LA BASE DE DATOS CKAN\n",
    "rows=str(1000) #maximo numero de resultados por consulta (maximo permitido es 1000)\n",
    "packs=[] #contenedor de paquetes retornados\n",
    "for s in range(0,4):\n",
    "    start=str(s*int(rows)) #paginacion\n",
    "    packages=requests.get(url_package_search+'rows='+rows+'&'+'start='+start,headers=headers)\n",
    "    packages=packages.json()\n",
    "    packs.extend(packages['result']['results'])"
   ]
  },
  {
   "cell_type": "code",
   "execution_count": 19,
   "metadata": {},
   "outputs": [],
   "source": [
    "recursos=[]\n",
    "for p in packs:\n",
    "    for r in p['resources']:\n",
    "        d=copy.deepcopy(r)\n",
    "        #parámetros del paquete\n",
    "        d['package_id']=p['id'] #id\n",
    "        d['package_name']=p['name'] #nombre\n",
    "        d['package_title']=p['title'] #titulo\n",
    "        d['package_notes']=p['notes'] #notas\n",
    "        if 'organization' in p.keys(): #si es que existe info de organizacion\n",
    "            if p['organization']!=None:\n",
    "                d['inst.']=p['organization']['title'] #si es que existe info del titulo incluirlo\n",
    "                d['inst_name']=p['organization']['name'] #si es que existe info del titulo incluirlo\n",
    "                d['inst_id']=p['organization']['id'] #si es que existe info del id inst.\n",
    "            else:\n",
    "                d['inst.']=None\n",
    "                d['inst_name']=None\n",
    "                d['inst_id']=None\n",
    "        recursos.append(d)\n",
    "recursos=pd.DataFrame(recursos) #convertir a df      "
   ]
  },
  {
   "cell_type": "code",
   "execution_count": 20,
   "metadata": {},
   "outputs": [],
   "source": [
    "recursos=recursos.rename(columns={'last_modified':'fecha','format':'formato'}) #cambiar nombres de columnas"
   ]
  },
  {
   "cell_type": "code",
   "execution_count": 21,
   "metadata": {},
   "outputs": [],
   "source": [
    "recursos=recursos.drop(['mimetype','cache_url','url','cache_last_updated','hash','url_type',\n",
    "              'mimetype_inner','position','resource_type'],axis=1) #botar columnas"
   ]
  },
  {
   "cell_type": "code",
   "execution_count": 22,
   "metadata": {},
   "outputs": [],
   "source": [
    "recursos['fecha']=pd.to_datetime(recursos['fecha']) #convertir la fecha a formato solo con la fecha (sin la hora)\n",
    "#desagregar en dia, mes, año\n",
    "recursos['dia']=recursos['fecha'].dt.date\n",
    "recursos['year']=recursos['fecha'].dt.year\n",
    "recursos['mes']=recursos['fecha'].dt.month"
   ]
  },
  {
   "cell_type": "code",
   "execution_count": 24,
   "metadata": {},
   "outputs": [],
   "source": [
    "data=recursos.to_dict(orient='records')"
   ]
  },
  {
   "cell_type": "code",
   "execution_count": 26,
   "metadata": {},
   "outputs": [],
   "source": [
    "#guardar paso en csv\n",
    "path='../ETLcache/'\n",
    "now = dt.now()\n",
    "date_time = now.strftime(\"_%m-%d-%Y_%H-%M-%S\")"
   ]
  },
  {
   "cell_type": "code",
   "execution_count": 35,
   "metadata": {},
   "outputs": [],
   "source": [
    "recursos.to_csv(path+date_time+'.csv')"
   ]
  },
  {
   "cell_type": "code",
   "execution_count": 36,
   "metadata": {},
   "outputs": [],
   "source": [
    "#guardar data de paquetes cruda en pickle y borrar para liberar espacio en memoria\n",
    "with open(path+date_time+'.pickle', 'wb') as f:\n",
    "    pickle.dump(packs, f)\n",
    "del(packs)"
   ]
  },
  {
   "cell_type": "code",
   "execution_count": 13,
   "metadata": {},
   "outputs": [],
   "source": [
    "#es = Elasticsearch(hosts = [ES_HOST],http_auth=('elastic', '                    # replace with the empty string'))"
   ]
  },
  {
   "cell_type": "code",
   "execution_count": 38,
   "metadata": {},
   "outputs": [],
   "source": [
    "#variables de entorno\n",
    "args={}\n",
    "args['elastic_user']='elastic'\n",
    "args['elastic_psswd']=os.environ['ELASTIC_PASSWD']\n",
    "args['DOMAIN_ELASTIC']=os.environ['DOMAIN_ELASTIC']\n",
    "args['ELASTIC_PORT']=os.environ['ELASTIC_PORT']"
   ]
  },
  {
   "cell_type": "code",
   "execution_count": 39,
   "metadata": {},
   "outputs": [],
   "source": [
    "ES_HOST = \"https://\"+args['DOMAIN_ELASTIC']\n",
    "basic_auth={'user':args['elastic_user'], 'psswd':args['elastic_psswd']}"
   ]
  },
  {
   "cell_type": "code",
   "execution_count": 40,
   "metadata": {},
   "outputs": [],
   "source": [
    "es=elastic_connection(ES_HOST,basic_auth=basic_auth)"
   ]
  },
  {
   "cell_type": "code",
   "execution_count": 41,
   "metadata": {},
   "outputs": [
    {
     "name": "stdout",
     "output_type": "stream",
     "text": [
      "True\n"
     ]
    }
   ],
   "source": [
    "es.ping()"
   ]
  },
  {
   "cell_type": "code",
   "execution_count": 42,
   "metadata": {},
   "outputs": [],
   "source": [
    "#generar campos concatenados (parámetros)\n",
    "generateID_params_custom={'fields':['package_id','id'], #campos a concatenar\n",
    "                               'head':20, #numero de caracteres a dejar\n",
    "                                'sep':'_' #separador entre campos\n",
    "                               }"
   ]
  },
  {
   "cell_type": "code",
   "execution_count": 43,
   "metadata": {},
   "outputs": [],
   "source": [
    "es.generateID_params_custom=generateID_params_custom"
   ]
  },
  {
   "cell_type": "code",
   "execution_count": 44,
   "metadata": {},
   "outputs": [],
   "source": [
    "es.add_docs(recursos)"
   ]
  },
  {
   "cell_type": "code",
   "execution_count": 45,
   "metadata": {},
   "outputs": [],
   "source": [
    "#prepar la data para elastic search\n",
    "es.elastic_prepare_pattern()"
   ]
  },
  {
   "cell_type": "code",
   "execution_count": 46,
   "metadata": {},
   "outputs": [],
   "source": [
    "indexes=[\n",
    "    ('ckan','ckan')\n",
    "        ]"
   ]
  },
  {
   "cell_type": "code",
   "execution_count": 47,
   "metadata": {},
   "outputs": [
    {
     "name": "stdout",
     "output_type": "stream",
     "text": [
      "creando paquetes de data bulk\n",
      "size of bulk docs is : 0.1796875 Kbs\n",
      "N° docs: 10445.0, N° chunks: 14\n"
     ]
    }
   ],
   "source": [
    "#generar bulk data\n",
    "i=indexes[0]\n",
    "n=1500\n",
    "id_field='id'\n",
    "es.bulk_data(INDEX_NAME=i[0],_type=i[1],n=n,id_field=id_field)\n",
    "#test"
   ]
  },
  {
   "cell_type": "code",
   "execution_count": 48,
   "metadata": {},
   "outputs": [
    {
     "data": {
      "text/plain": [
       "1500"
      ]
     },
     "execution_count": 48,
     "metadata": {},
     "output_type": "execute_result"
    }
   ],
   "source": [
    "len(es.chunks[0])"
   ]
  },
  {
   "cell_type": "code",
   "execution_count": 49,
   "metadata": {},
   "outputs": [
    {
     "name": "stdout",
     "output_type": "stream",
     "text": [
      "creating 'ckan' index...\n",
      " response: '{'acknowledged': True, 'shards_acknowledged': True, 'index': 'ckan'}'\n"
     ]
    }
   ],
   "source": [
    "es.clear_index(i[0])"
   ]
  },
  {
   "cell_type": "code",
   "execution_count": 50,
   "metadata": {},
   "outputs": [
    {
     "name": "stdout",
     "output_type": "stream",
     "text": [
      "bulk indexing...:index---> ckan\n",
      " indexing chunk : 13 of 14finished bulk indexing\n",
      "No recorded ES indexing errors\n",
      "No recorded ES indexing exceptions\n"
     ]
    }
   ],
   "source": [
    "es.bulk_index()"
   ]
  },
  {
   "cell_type": "code",
   "execution_count": 51,
   "metadata": {},
   "outputs": [
    {
     "ename": "AttributeError",
     "evalue": "'elastic_connection' object has no attribute 'errors'",
     "output_type": "error",
     "traceback": [
      "\u001b[0;31m---------------------------------------------------------------------------\u001b[0m",
      "\u001b[0;31mAttributeError\u001b[0m                            Traceback (most recent call last)",
      "\u001b[0;32m/tmp/ipykernel_39515/1035245361.py\u001b[0m in \u001b[0;36m<module>\u001b[0;34m\u001b[0m\n\u001b[0;32m----> 1\u001b[0;31m \u001b[0mes\u001b[0m\u001b[0;34m.\u001b[0m\u001b[0merrors\u001b[0m\u001b[0;34m\u001b[0m\u001b[0;34m\u001b[0m\u001b[0m\n\u001b[0m",
      "\u001b[0;31mAttributeError\u001b[0m: 'elastic_connection' object has no attribute 'errors'"
     ]
    }
   ],
   "source": [
    "es.errors"
   ]
  },
  {
   "cell_type": "code",
   "execution_count": 55,
   "metadata": {},
   "outputs": [
    {
     "data": {
      "text/html": [
       "<div>\n",
       "<style scoped>\n",
       "    .dataframe tbody tr th:only-of-type {\n",
       "        vertical-align: middle;\n",
       "    }\n",
       "\n",
       "    .dataframe tbody tr th {\n",
       "        vertical-align: top;\n",
       "    }\n",
       "\n",
       "    .dataframe thead th {\n",
       "        text-align: right;\n",
       "    }\n",
       "</style>\n",
       "<table border=\"1\" class=\"dataframe\">\n",
       "  <thead>\n",
       "    <tr style=\"text-align: right;\">\n",
       "      <th></th>\n",
       "      <th>package_id</th>\n",
       "      <th>datastore_contains_all_records_of_source_file</th>\n",
       "      <th>datastore_active</th>\n",
       "      <th>size</th>\n",
       "      <th>original_url</th>\n",
       "      <th>resource_id</th>\n",
       "      <th>set_url_type</th>\n",
       "      <th>state</th>\n",
       "      <th>ignore_hash</th>\n",
       "      <th>description</th>\n",
       "      <th>...</th>\n",
       "      <th>package_notes</th>\n",
       "      <th>inst.</th>\n",
       "      <th>inst_name</th>\n",
       "      <th>inst_id</th>\n",
       "      <th>document_image_upload</th>\n",
       "      <th>document_clear_upload</th>\n",
       "      <th>document_image_url</th>\n",
       "      <th>dia</th>\n",
       "      <th>year</th>\n",
       "      <th>mes</th>\n",
       "    </tr>\n",
       "  </thead>\n",
       "  <tbody>\n",
       "    <tr>\n",
       "      <th>0</th>\n",
       "      <td>0ee695ff-2340-4cf5-ba50-78b88bfbb5fd</td>\n",
       "      <td>False</td>\n",
       "      <td>False</td>\n",
       "      <td>None</td>\n",
       "      <td>None</td>\n",
       "      <td>None</td>\n",
       "      <td>None</td>\n",
       "      <td>active</td>\n",
       "      <td>None</td>\n",
       "      <td>Archivo de registros de bultos de exportación ...</td>\n",
       "      <td>...</td>\n",
       "      <td>Muestra el registro de ítems correspondientes ...</td>\n",
       "      <td>Servicio Nacional de Aduanas</td>\n",
       "      <td>servicio_nacional_de_aduanas</td>\n",
       "      <td>AE007</td>\n",
       "      <td>None</td>\n",
       "      <td>None</td>\n",
       "      <td>None</td>\n",
       "      <td>2018-06-19</td>\n",
       "      <td>2018.0</td>\n",
       "      <td>6.0</td>\n",
       "    </tr>\n",
       "    <tr>\n",
       "      <th>1</th>\n",
       "      <td>0ee695ff-2340-4cf5-ba50-78b88bfbb5fd</td>\n",
       "      <td>False</td>\n",
       "      <td>False</td>\n",
       "      <td>None</td>\n",
       "      <td>None</td>\n",
       "      <td>None</td>\n",
       "      <td>None</td>\n",
       "      <td>active</td>\n",
       "      <td>None</td>\n",
       "      <td>Archivo de registros de ítems correspondientes...</td>\n",
       "      <td>...</td>\n",
       "      <td>Muestra el registro de ítems correspondientes ...</td>\n",
       "      <td>Servicio Nacional de Aduanas</td>\n",
       "      <td>servicio_nacional_de_aduanas</td>\n",
       "      <td>AE007</td>\n",
       "      <td>None</td>\n",
       "      <td>None</td>\n",
       "      <td>None</td>\n",
       "      <td>2018-06-19</td>\n",
       "      <td>2018.0</td>\n",
       "      <td>6.0</td>\n",
       "    </tr>\n",
       "    <tr>\n",
       "      <th>2</th>\n",
       "      <td>0ee695ff-2340-4cf5-ba50-78b88bfbb5fd</td>\n",
       "      <td>False</td>\n",
       "      <td>False</td>\n",
       "      <td>None</td>\n",
       "      <td>None</td>\n",
       "      <td>None</td>\n",
       "      <td>None</td>\n",
       "      <td>active</td>\n",
       "      <td>None</td>\n",
       "      <td>Archivo de registros de ítems correspondientes...</td>\n",
       "      <td>...</td>\n",
       "      <td>Muestra el registro de ítems correspondientes ...</td>\n",
       "      <td>Servicio Nacional de Aduanas</td>\n",
       "      <td>servicio_nacional_de_aduanas</td>\n",
       "      <td>AE007</td>\n",
       "      <td>None</td>\n",
       "      <td>None</td>\n",
       "      <td>None</td>\n",
       "      <td>2018-06-19</td>\n",
       "      <td>2018.0</td>\n",
       "      <td>6.0</td>\n",
       "    </tr>\n",
       "    <tr>\n",
       "      <th>3</th>\n",
       "      <td>0ee695ff-2340-4cf5-ba50-78b88bfbb5fd</td>\n",
       "      <td>False</td>\n",
       "      <td>False</td>\n",
       "      <td>None</td>\n",
       "      <td>None</td>\n",
       "      <td>None</td>\n",
       "      <td>None</td>\n",
       "      <td>active</td>\n",
       "      <td>None</td>\n",
       "      <td>Archivo de registros de bultos de exportación ...</td>\n",
       "      <td>...</td>\n",
       "      <td>Muestra el registro de ítems correspondientes ...</td>\n",
       "      <td>Servicio Nacional de Aduanas</td>\n",
       "      <td>servicio_nacional_de_aduanas</td>\n",
       "      <td>AE007</td>\n",
       "      <td>None</td>\n",
       "      <td>None</td>\n",
       "      <td>None</td>\n",
       "      <td>2018-06-19</td>\n",
       "      <td>2018.0</td>\n",
       "      <td>6.0</td>\n",
       "    </tr>\n",
       "    <tr>\n",
       "      <th>4</th>\n",
       "      <td>0ee695ff-2340-4cf5-ba50-78b88bfbb5fd</td>\n",
       "      <td>False</td>\n",
       "      <td>False</td>\n",
       "      <td>None</td>\n",
       "      <td>None</td>\n",
       "      <td>None</td>\n",
       "      <td>None</td>\n",
       "      <td>active</td>\n",
       "      <td>None</td>\n",
       "      <td>Archivo de registros de ítems correspondientes...</td>\n",
       "      <td>...</td>\n",
       "      <td>Muestra el registro de ítems correspondientes ...</td>\n",
       "      <td>Servicio Nacional de Aduanas</td>\n",
       "      <td>servicio_nacional_de_aduanas</td>\n",
       "      <td>AE007</td>\n",
       "      <td>None</td>\n",
       "      <td>None</td>\n",
       "      <td>None</td>\n",
       "      <td>2018-06-19</td>\n",
       "      <td>2018.0</td>\n",
       "      <td>6.0</td>\n",
       "    </tr>\n",
       "    <tr>\n",
       "      <th>5</th>\n",
       "      <td>0ee695ff-2340-4cf5-ba50-78b88bfbb5fd</td>\n",
       "      <td>False</td>\n",
       "      <td>False</td>\n",
       "      <td>None</td>\n",
       "      <td>None</td>\n",
       "      <td>None</td>\n",
       "      <td>None</td>\n",
       "      <td>active</td>\n",
       "      <td>None</td>\n",
       "      <td>Archivo de registros de ítems correspondientes...</td>\n",
       "      <td>...</td>\n",
       "      <td>Muestra el registro de ítems correspondientes ...</td>\n",
       "      <td>Servicio Nacional de Aduanas</td>\n",
       "      <td>servicio_nacional_de_aduanas</td>\n",
       "      <td>AE007</td>\n",
       "      <td>None</td>\n",
       "      <td>None</td>\n",
       "      <td>None</td>\n",
       "      <td>2018-06-19</td>\n",
       "      <td>2018.0</td>\n",
       "      <td>6.0</td>\n",
       "    </tr>\n",
       "    <tr>\n",
       "      <th>6</th>\n",
       "      <td>0ee695ff-2340-4cf5-ba50-78b88bfbb5fd</td>\n",
       "      <td>False</td>\n",
       "      <td>False</td>\n",
       "      <td>None</td>\n",
       "      <td>None</td>\n",
       "      <td>None</td>\n",
       "      <td>None</td>\n",
       "      <td>active</td>\n",
       "      <td>None</td>\n",
       "      <td>Archivo de registros de bultos de exportación ...</td>\n",
       "      <td>...</td>\n",
       "      <td>Muestra el registro de ítems correspondientes ...</td>\n",
       "      <td>Servicio Nacional de Aduanas</td>\n",
       "      <td>servicio_nacional_de_aduanas</td>\n",
       "      <td>AE007</td>\n",
       "      <td>None</td>\n",
       "      <td>None</td>\n",
       "      <td>None</td>\n",
       "      <td>2018-06-19</td>\n",
       "      <td>2018.0</td>\n",
       "      <td>6.0</td>\n",
       "    </tr>\n",
       "    <tr>\n",
       "      <th>7</th>\n",
       "      <td>0ee695ff-2340-4cf5-ba50-78b88bfbb5fd</td>\n",
       "      <td>False</td>\n",
       "      <td>False</td>\n",
       "      <td>None</td>\n",
       "      <td>None</td>\n",
       "      <td>None</td>\n",
       "      <td>None</td>\n",
       "      <td>active</td>\n",
       "      <td>None</td>\n",
       "      <td>Archivo de registros de ítems correspondientes...</td>\n",
       "      <td>...</td>\n",
       "      <td>Muestra el registro de ítems correspondientes ...</td>\n",
       "      <td>Servicio Nacional de Aduanas</td>\n",
       "      <td>servicio_nacional_de_aduanas</td>\n",
       "      <td>AE007</td>\n",
       "      <td>None</td>\n",
       "      <td>None</td>\n",
       "      <td>None</td>\n",
       "      <td>2018-06-19</td>\n",
       "      <td>2018.0</td>\n",
       "      <td>6.0</td>\n",
       "    </tr>\n",
       "    <tr>\n",
       "      <th>8</th>\n",
       "      <td>0ee695ff-2340-4cf5-ba50-78b88bfbb5fd</td>\n",
       "      <td>False</td>\n",
       "      <td>False</td>\n",
       "      <td>None</td>\n",
       "      <td>None</td>\n",
       "      <td>None</td>\n",
       "      <td>None</td>\n",
       "      <td>active</td>\n",
       "      <td>None</td>\n",
       "      <td>Archivo de registros de ítems correspondientes...</td>\n",
       "      <td>...</td>\n",
       "      <td>Muestra el registro de ítems correspondientes ...</td>\n",
       "      <td>Servicio Nacional de Aduanas</td>\n",
       "      <td>servicio_nacional_de_aduanas</td>\n",
       "      <td>AE007</td>\n",
       "      <td>None</td>\n",
       "      <td>None</td>\n",
       "      <td>None</td>\n",
       "      <td>2018-07-26</td>\n",
       "      <td>2018.0</td>\n",
       "      <td>7.0</td>\n",
       "    </tr>\n",
       "    <tr>\n",
       "      <th>9</th>\n",
       "      <td>0ee695ff-2340-4cf5-ba50-78b88bfbb5fd</td>\n",
       "      <td>False</td>\n",
       "      <td>False</td>\n",
       "      <td>None</td>\n",
       "      <td>None</td>\n",
       "      <td>None</td>\n",
       "      <td>None</td>\n",
       "      <td>active</td>\n",
       "      <td>None</td>\n",
       "      <td>Archivo de registros de bultos de exportación ...</td>\n",
       "      <td>...</td>\n",
       "      <td>Muestra el registro de ítems correspondientes ...</td>\n",
       "      <td>Servicio Nacional de Aduanas</td>\n",
       "      <td>servicio_nacional_de_aduanas</td>\n",
       "      <td>AE007</td>\n",
       "      <td>None</td>\n",
       "      <td>None</td>\n",
       "      <td>None</td>\n",
       "      <td>2018-06-19</td>\n",
       "      <td>2018.0</td>\n",
       "      <td>6.0</td>\n",
       "    </tr>\n",
       "    <tr>\n",
       "      <th>10</th>\n",
       "      <td>0ee695ff-2340-4cf5-ba50-78b88bfbb5fd</td>\n",
       "      <td>False</td>\n",
       "      <td>False</td>\n",
       "      <td>None</td>\n",
       "      <td>None</td>\n",
       "      <td>None</td>\n",
       "      <td>None</td>\n",
       "      <td>active</td>\n",
       "      <td>None</td>\n",
       "      <td>Archivo de registros de ítems correspondientes...</td>\n",
       "      <td>...</td>\n",
       "      <td>Muestra el registro de ítems correspondientes ...</td>\n",
       "      <td>Servicio Nacional de Aduanas</td>\n",
       "      <td>servicio_nacional_de_aduanas</td>\n",
       "      <td>AE007</td>\n",
       "      <td>None</td>\n",
       "      <td>None</td>\n",
       "      <td>None</td>\n",
       "      <td>2018-06-19</td>\n",
       "      <td>2018.0</td>\n",
       "      <td>6.0</td>\n",
       "    </tr>\n",
       "    <tr>\n",
       "      <th>11</th>\n",
       "      <td>0ee695ff-2340-4cf5-ba50-78b88bfbb5fd</td>\n",
       "      <td>False</td>\n",
       "      <td>False</td>\n",
       "      <td>None</td>\n",
       "      <td>None</td>\n",
       "      <td>None</td>\n",
       "      <td>None</td>\n",
       "      <td>active</td>\n",
       "      <td>None</td>\n",
       "      <td>Archivo de registros de ítems correspondientes...</td>\n",
       "      <td>...</td>\n",
       "      <td>Muestra el registro de ítems correspondientes ...</td>\n",
       "      <td>Servicio Nacional de Aduanas</td>\n",
       "      <td>servicio_nacional_de_aduanas</td>\n",
       "      <td>AE007</td>\n",
       "      <td>None</td>\n",
       "      <td>None</td>\n",
       "      <td>None</td>\n",
       "      <td>2018-06-19</td>\n",
       "      <td>2018.0</td>\n",
       "      <td>6.0</td>\n",
       "    </tr>\n",
       "    <tr>\n",
       "      <th>12</th>\n",
       "      <td>0ee695ff-2340-4cf5-ba50-78b88bfbb5fd</td>\n",
       "      <td>False</td>\n",
       "      <td>False</td>\n",
       "      <td>None</td>\n",
       "      <td>None</td>\n",
       "      <td>None</td>\n",
       "      <td>None</td>\n",
       "      <td>active</td>\n",
       "      <td>None</td>\n",
       "      <td>Archivo de registros de bultos de exportación ...</td>\n",
       "      <td>...</td>\n",
       "      <td>Muestra el registro de ítems correspondientes ...</td>\n",
       "      <td>Servicio Nacional de Aduanas</td>\n",
       "      <td>servicio_nacional_de_aduanas</td>\n",
       "      <td>AE007</td>\n",
       "      <td>None</td>\n",
       "      <td>None</td>\n",
       "      <td>None</td>\n",
       "      <td>2018-06-19</td>\n",
       "      <td>2018.0</td>\n",
       "      <td>6.0</td>\n",
       "    </tr>\n",
       "    <tr>\n",
       "      <th>13</th>\n",
       "      <td>0ee695ff-2340-4cf5-ba50-78b88bfbb5fd</td>\n",
       "      <td>False</td>\n",
       "      <td>False</td>\n",
       "      <td>None</td>\n",
       "      <td>None</td>\n",
       "      <td>None</td>\n",
       "      <td>None</td>\n",
       "      <td>active</td>\n",
       "      <td>None</td>\n",
       "      <td>Archivo de registros de ítems correspondientes...</td>\n",
       "      <td>...</td>\n",
       "      <td>Muestra el registro de ítems correspondientes ...</td>\n",
       "      <td>Servicio Nacional de Aduanas</td>\n",
       "      <td>servicio_nacional_de_aduanas</td>\n",
       "      <td>AE007</td>\n",
       "      <td>None</td>\n",
       "      <td>None</td>\n",
       "      <td>None</td>\n",
       "      <td>2018-06-19</td>\n",
       "      <td>2018.0</td>\n",
       "      <td>6.0</td>\n",
       "    </tr>\n",
       "    <tr>\n",
       "      <th>14</th>\n",
       "      <td>0ee695ff-2340-4cf5-ba50-78b88bfbb5fd</td>\n",
       "      <td>False</td>\n",
       "      <td>False</td>\n",
       "      <td>None</td>\n",
       "      <td>None</td>\n",
       "      <td>None</td>\n",
       "      <td>None</td>\n",
       "      <td>active</td>\n",
       "      <td>None</td>\n",
       "      <td>Archivo de registros de ítems correspondientes...</td>\n",
       "      <td>...</td>\n",
       "      <td>Muestra el registro de ítems correspondientes ...</td>\n",
       "      <td>Servicio Nacional de Aduanas</td>\n",
       "      <td>servicio_nacional_de_aduanas</td>\n",
       "      <td>AE007</td>\n",
       "      <td>None</td>\n",
       "      <td>None</td>\n",
       "      <td>None</td>\n",
       "      <td>2018-06-19</td>\n",
       "      <td>2018.0</td>\n",
       "      <td>6.0</td>\n",
       "    </tr>\n",
       "  </tbody>\n",
       "</table>\n",
       "<p>15 rows × 29 columns</p>\n",
       "</div>"
      ],
      "text/plain": [
       "                              package_id  \\\n",
       "0   0ee695ff-2340-4cf5-ba50-78b88bfbb5fd   \n",
       "1   0ee695ff-2340-4cf5-ba50-78b88bfbb5fd   \n",
       "2   0ee695ff-2340-4cf5-ba50-78b88bfbb5fd   \n",
       "3   0ee695ff-2340-4cf5-ba50-78b88bfbb5fd   \n",
       "4   0ee695ff-2340-4cf5-ba50-78b88bfbb5fd   \n",
       "5   0ee695ff-2340-4cf5-ba50-78b88bfbb5fd   \n",
       "6   0ee695ff-2340-4cf5-ba50-78b88bfbb5fd   \n",
       "7   0ee695ff-2340-4cf5-ba50-78b88bfbb5fd   \n",
       "8   0ee695ff-2340-4cf5-ba50-78b88bfbb5fd   \n",
       "9   0ee695ff-2340-4cf5-ba50-78b88bfbb5fd   \n",
       "10  0ee695ff-2340-4cf5-ba50-78b88bfbb5fd   \n",
       "11  0ee695ff-2340-4cf5-ba50-78b88bfbb5fd   \n",
       "12  0ee695ff-2340-4cf5-ba50-78b88bfbb5fd   \n",
       "13  0ee695ff-2340-4cf5-ba50-78b88bfbb5fd   \n",
       "14  0ee695ff-2340-4cf5-ba50-78b88bfbb5fd   \n",
       "\n",
       "   datastore_contains_all_records_of_source_file  datastore_active  size  \\\n",
       "0                                          False             False  None   \n",
       "1                                          False             False  None   \n",
       "2                                          False             False  None   \n",
       "3                                          False             False  None   \n",
       "4                                          False             False  None   \n",
       "5                                          False             False  None   \n",
       "6                                          False             False  None   \n",
       "7                                          False             False  None   \n",
       "8                                          False             False  None   \n",
       "9                                          False             False  None   \n",
       "10                                         False             False  None   \n",
       "11                                         False             False  None   \n",
       "12                                         False             False  None   \n",
       "13                                         False             False  None   \n",
       "14                                         False             False  None   \n",
       "\n",
       "   original_url resource_id set_url_type   state ignore_hash  \\\n",
       "0          None        None         None  active        None   \n",
       "1          None        None         None  active        None   \n",
       "2          None        None         None  active        None   \n",
       "3          None        None         None  active        None   \n",
       "4          None        None         None  active        None   \n",
       "5          None        None         None  active        None   \n",
       "6          None        None         None  active        None   \n",
       "7          None        None         None  active        None   \n",
       "8          None        None         None  active        None   \n",
       "9          None        None         None  active        None   \n",
       "10         None        None         None  active        None   \n",
       "11         None        None         None  active        None   \n",
       "12         None        None         None  active        None   \n",
       "13         None        None         None  active        None   \n",
       "14         None        None         None  active        None   \n",
       "\n",
       "                                          description  ...  \\\n",
       "0   Archivo de registros de bultos de exportación ...  ...   \n",
       "1   Archivo de registros de ítems correspondientes...  ...   \n",
       "2   Archivo de registros de ítems correspondientes...  ...   \n",
       "3   Archivo de registros de bultos de exportación ...  ...   \n",
       "4   Archivo de registros de ítems correspondientes...  ...   \n",
       "5   Archivo de registros de ítems correspondientes...  ...   \n",
       "6   Archivo de registros de bultos de exportación ...  ...   \n",
       "7   Archivo de registros de ítems correspondientes...  ...   \n",
       "8   Archivo de registros de ítems correspondientes...  ...   \n",
       "9   Archivo de registros de bultos de exportación ...  ...   \n",
       "10  Archivo de registros de ítems correspondientes...  ...   \n",
       "11  Archivo de registros de ítems correspondientes...  ...   \n",
       "12  Archivo de registros de bultos de exportación ...  ...   \n",
       "13  Archivo de registros de ítems correspondientes...  ...   \n",
       "14  Archivo de registros de ítems correspondientes...  ...   \n",
       "\n",
       "                                        package_notes  \\\n",
       "0   Muestra el registro de ítems correspondientes ...   \n",
       "1   Muestra el registro de ítems correspondientes ...   \n",
       "2   Muestra el registro de ítems correspondientes ...   \n",
       "3   Muestra el registro de ítems correspondientes ...   \n",
       "4   Muestra el registro de ítems correspondientes ...   \n",
       "5   Muestra el registro de ítems correspondientes ...   \n",
       "6   Muestra el registro de ítems correspondientes ...   \n",
       "7   Muestra el registro de ítems correspondientes ...   \n",
       "8   Muestra el registro de ítems correspondientes ...   \n",
       "9   Muestra el registro de ítems correspondientes ...   \n",
       "10  Muestra el registro de ítems correspondientes ...   \n",
       "11  Muestra el registro de ítems correspondientes ...   \n",
       "12  Muestra el registro de ítems correspondientes ...   \n",
       "13  Muestra el registro de ítems correspondientes ...   \n",
       "14  Muestra el registro de ítems correspondientes ...   \n",
       "\n",
       "                           inst.                     inst_name inst_id  \\\n",
       "0   Servicio Nacional de Aduanas  servicio_nacional_de_aduanas   AE007   \n",
       "1   Servicio Nacional de Aduanas  servicio_nacional_de_aduanas   AE007   \n",
       "2   Servicio Nacional de Aduanas  servicio_nacional_de_aduanas   AE007   \n",
       "3   Servicio Nacional de Aduanas  servicio_nacional_de_aduanas   AE007   \n",
       "4   Servicio Nacional de Aduanas  servicio_nacional_de_aduanas   AE007   \n",
       "5   Servicio Nacional de Aduanas  servicio_nacional_de_aduanas   AE007   \n",
       "6   Servicio Nacional de Aduanas  servicio_nacional_de_aduanas   AE007   \n",
       "7   Servicio Nacional de Aduanas  servicio_nacional_de_aduanas   AE007   \n",
       "8   Servicio Nacional de Aduanas  servicio_nacional_de_aduanas   AE007   \n",
       "9   Servicio Nacional de Aduanas  servicio_nacional_de_aduanas   AE007   \n",
       "10  Servicio Nacional de Aduanas  servicio_nacional_de_aduanas   AE007   \n",
       "11  Servicio Nacional de Aduanas  servicio_nacional_de_aduanas   AE007   \n",
       "12  Servicio Nacional de Aduanas  servicio_nacional_de_aduanas   AE007   \n",
       "13  Servicio Nacional de Aduanas  servicio_nacional_de_aduanas   AE007   \n",
       "14  Servicio Nacional de Aduanas  servicio_nacional_de_aduanas   AE007   \n",
       "\n",
       "   document_image_upload document_clear_upload document_image_url         dia  \\\n",
       "0                   None                  None               None  2018-06-19   \n",
       "1                   None                  None               None  2018-06-19   \n",
       "2                   None                  None               None  2018-06-19   \n",
       "3                   None                  None               None  2018-06-19   \n",
       "4                   None                  None               None  2018-06-19   \n",
       "5                   None                  None               None  2018-06-19   \n",
       "6                   None                  None               None  2018-06-19   \n",
       "7                   None                  None               None  2018-06-19   \n",
       "8                   None                  None               None  2018-07-26   \n",
       "9                   None                  None               None  2018-06-19   \n",
       "10                  None                  None               None  2018-06-19   \n",
       "11                  None                  None               None  2018-06-19   \n",
       "12                  None                  None               None  2018-06-19   \n",
       "13                  None                  None               None  2018-06-19   \n",
       "14                  None                  None               None  2018-06-19   \n",
       "\n",
       "      year  mes  \n",
       "0   2018.0  6.0  \n",
       "1   2018.0  6.0  \n",
       "2   2018.0  6.0  \n",
       "3   2018.0  6.0  \n",
       "4   2018.0  6.0  \n",
       "5   2018.0  6.0  \n",
       "6   2018.0  6.0  \n",
       "7   2018.0  6.0  \n",
       "8   2018.0  7.0  \n",
       "9   2018.0  6.0  \n",
       "10  2018.0  6.0  \n",
       "11  2018.0  6.0  \n",
       "12  2018.0  6.0  \n",
       "13  2018.0  6.0  \n",
       "14  2018.0  6.0  \n",
       "\n",
       "[15 rows x 29 columns]"
      ]
     },
     "execution_count": 55,
     "metadata": {},
     "output_type": "execute_result"
    }
   ],
   "source": [
    "es.test_index(i[0],n=15)"
   ]
  },
  {
   "cell_type": "code",
   "execution_count": 53,
   "metadata": {},
   "outputs": [
    {
     "data": {
      "text/plain": [
       "['.security-7',\n",
       " 'kibana_sample_data_flights',\n",
       " '.kibana_task_manager',\n",
       " '.kibana_1',\n",
       " 'ckan']"
      ]
     },
     "execution_count": 53,
     "metadata": {},
     "output_type": "execute_result"
    }
   ],
   "source": [
    "es.list_indices()"
   ]
  }
 ],
 "metadata": {
  "kernelspec": {
   "display_name": "Python 3 (ipykernel)",
   "language": "python",
   "name": "python3"
  },
  "language_info": {
   "codemirror_mode": {
    "name": "ipython",
    "version": 3
   },
   "file_extension": ".py",
   "mimetype": "text/x-python",
   "name": "python",
   "nbconvert_exporter": "python",
   "pygments_lexer": "ipython3",
   "version": "3.9.7"
  }
 },
 "nbformat": 4,
 "nbformat_minor": 2
}
