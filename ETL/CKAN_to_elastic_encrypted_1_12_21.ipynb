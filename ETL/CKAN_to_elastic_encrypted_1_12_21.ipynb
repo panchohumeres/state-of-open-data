{
 "cells": [
  {
   "cell_type": "code",
   "execution_count": 1,
   "metadata": {},
   "outputs": [],
   "source": [
    "import requests\n",
    "import pandas as pd\n",
    "import numpy as np\n",
    "from elasticsearch import Elasticsearch\n",
    "import os\n",
    "from datetime import datetime as dt\n",
    "import os.path\n",
    "from os import path\n",
    "import sys\n",
    "from importlib import reload\n",
    "import copy\n",
    "import pickle"
   ]
  },
  {
   "cell_type": "code",
   "execution_count": 2,
   "metadata": {},
   "outputs": [],
   "source": [
    "sys.path.append('..')"
   ]
  },
  {
   "cell_type": "code",
   "execution_count": 3,
   "metadata": {},
   "outputs": [
    {
     "data": {
      "text/plain": [
       "<module 'modules.Elastic_Module' from '/home/francisco/Desktop/repos/opendata/ETL/../modules/Elastic_Module.py'>"
      ]
     },
     "execution_count": 3,
     "metadata": {},
     "output_type": "execute_result"
    }
   ],
   "source": [
    "import modules.Elastic_Module\n",
    "reload(modules.Elastic_Module)"
   ]
  },
  {
   "cell_type": "code",
   "execution_count": 4,
   "metadata": {},
   "outputs": [],
   "source": [
    "from modules.Elastic_Module import *"
   ]
  },
  {
   "cell_type": "code",
   "execution_count": 10,
   "metadata": {},
   "outputs": [],
   "source": [
    "url_ckan='https://datos.gob.cl/api/3/action/package_list'\n",
    "url_package='https://datos.gob.cl/api/3/action/package_show?id='\n",
    "url_package_search='https://datos.gob.cl/api/3/action/package_search?'"
   ]
  },
  {
   "cell_type": "code",
   "execution_count": 11,
   "metadata": {},
   "outputs": [],
   "source": [
    "#Headers user agent simular browser para no obtener error 403 (prohibido)\n",
    "headers = {'User-Agent': 'Mozilla/5.0 (X11; Linux x86_64) AppleWebKit/537.36 (KHTML, like Gecko) Chrome/96.0.4664.45 Safari/537.36',\n",
    "}"
   ]
  },
  {
   "cell_type": "code",
   "execution_count": 12,
   "metadata": {},
   "outputs": [],
   "source": [
    "#Listas de paquetes ckan (con sus ID)\n",
    "ckan_packages=requests.get(url_ckan,headers=headers) #consultar api\n",
    "ckan_packages=ckan_packages.json() #convertir respuesta a json"
   ]
  },
  {
   "cell_type": "code",
   "execution_count": 14,
   "metadata": {},
   "outputs": [],
   "source": [
    "#OBTENER TODOS LOS PAQUETES DE LA BASE DE DATOS CKAN\n",
    "rows=str(1000) #maximo numero de resultados por consulta (maximo permitido es 1000)\n",
    "packs=[] #contenedor de paquetes retornados\n",
    "for s in range(0,4):\n",
    "    start=str(s*int(rows)) #paginacion\n",
    "    packages=requests.get(url_package_search+'rows='+rows+'&'+'start='+start,headers=headers)\n",
    "    packages=packages.json()\n",
    "    packs.extend(packages['result']['results'])"
   ]
  },
  {
   "cell_type": "code",
   "execution_count": 16,
   "metadata": {},
   "outputs": [],
   "source": [
    "recursos=[]\n",
    "for p in packs:\n",
    "    tags=[]\n",
    "    for t in p['tags']:\n",
    "        tags.append(t['name'])\n",
    "    for r in p['resources']:\n",
    "        d=copy.deepcopy(r)\n",
    "        #parámetros del paquete\n",
    "        d['package_id']=p['id'] #id\n",
    "        d['package_name']=p['name'] #nombre\n",
    "        d['package_title']=p['title'] #titulo\n",
    "        d['package_notes']=p['notes'] #notas\n",
    "        d['tags']=tags\n",
    "\n",
    "        if 'organization' in p.keys(): #si es que existe info de organizacion\n",
    "            if p['organization']!=None:\n",
    "                d['inst.']=p['organization']['title'] #si es que existe info del titulo incluirlo\n",
    "                d['inst_name']=p['organization']['name'] #si es que existe info del titulo incluirlo\n",
    "                d['inst_id']=p['organization']['id'] #si es que existe info del id inst.\n",
    "            else:\n",
    "                d['inst.']=None\n",
    "                d['inst_name']=None\n",
    "                d['inst_id']=None\n",
    "        recursos.append(d)\n",
    "recursos=pd.DataFrame(recursos) #convertir a df      "
   ]
  },
  {
   "cell_type": "code",
   "execution_count": 17,
   "metadata": {},
   "outputs": [],
   "source": [
    "recursos=recursos.rename(columns={'last_modified':'fecha','format':'formato','name':'resource_title',\n",
    "                                 }) #cambiar nombres de columnas"
   ]
  },
  {
   "cell_type": "code",
   "execution_count": 18,
   "metadata": {},
   "outputs": [],
   "source": [
    "recursos=recursos.drop(['mimetype','cache_url','cache_last_updated','hash','url_type',\n",
    "              'mimetype_inner','position','resource_type'],axis=1) #botar columnas"
   ]
  },
  {
   "cell_type": "code",
   "execution_count": 19,
   "metadata": {},
   "outputs": [],
   "source": [
    "recursos['fecha']=pd.to_datetime(recursos['fecha']) #convertir la fecha a formato solo con la fecha (sin la hora)\n",
    "#desagregar en dia, mes, año\n",
    "recursos['dia']=recursos['fecha'].dt.date\n",
    "recursos['year']=recursos['fecha'].dt.year\n",
    "recursos['mes']=recursos['fecha'].dt.month"
   ]
  },
  {
   "cell_type": "code",
   "execution_count": 20,
   "metadata": {},
   "outputs": [],
   "source": [
    "data=recursos.to_dict(orient='records')"
   ]
  },
  {
   "cell_type": "code",
   "execution_count": 26,
   "metadata": {},
   "outputs": [],
   "source": [
    "#guardar paso en csv (server)\n",
    "#path='../ETLcache/'\n",
    "#now = dt.now()\n",
    "#date_time = now.strftime(\"_%m-%d-%Y_%H-%M-%S\")"
   ]
  },
  {
   "cell_type": "code",
   "execution_count": 26,
   "metadata": {},
   "outputs": [],
   "source": [
    "#guardar paso en csv (local)\n",
    "path='../../data/backup_opendata/backup_opendata_2_12_21'\n",
    "#now = dt.now()\n",
    "date_time = ''"
   ]
  },
  {
   "cell_type": "code",
   "execution_count": 27,
   "metadata": {},
   "outputs": [],
   "source": [
    "recursos.to_csv(path+date_time+'.csv')"
   ]
  },
  {
   "cell_type": "code",
   "execution_count": 36,
   "metadata": {},
   "outputs": [],
   "source": [
    "#guardar data de paquetes cruda en pickle y borrar para liberar espacio en memoria (server)\n",
    "#with open(path+date_time+'.pickle', 'wb') as f:\n",
    "#    pickle.dump(packs, f)\n",
    "#del(packs)"
   ]
  },
  {
   "cell_type": "code",
   "execution_count": 28,
   "metadata": {},
   "outputs": [],
   "source": [
    "#guardar data de paquetes cruda en pickle y borrar para liberar espacio en memoria (server)\n",
    "with open(path+date_time+'.pickle', 'wb') as f:\n",
    "    pickle.dump(packs, f)\n",
    "del(packs)"
   ]
  },
  {
   "cell_type": "code",
   "execution_count": 13,
   "metadata": {},
   "outputs": [],
   "source": [
    "#es = Elasticsearch(hosts = [ES_HOST],http_auth=('elastic', '                    # replace with the empty string'))"
   ]
  },
  {
   "cell_type": "code",
   "execution_count": 31,
   "metadata": {},
   "outputs": [],
   "source": [
    "#variables de entorno\n",
    "args={}\n",
    "args['elastic_user']='elastic'\n",
    "args['elastic_psswd']=#os.environ['ELASTIC_PASSWD']\n",
    "args['DOMAIN_ELASTIC']=#os.environ['DOMAIN_ELASTIC']\n",
    "args['ELASTIC_PORT']=9200#os.environ['ELASTIC_PORT']"
   ]
  },
  {
   "cell_type": "code",
   "execution_count": 32,
   "metadata": {},
   "outputs": [],
   "source": [
    "ES_HOST = \"https://\"+args['DOMAIN_ELASTIC']\n",
    "basic_auth={'user':args['elastic_user'], 'psswd':args['elastic_psswd']}"
   ]
  },
  {
   "cell_type": "code",
   "execution_count": 33,
   "metadata": {},
   "outputs": [],
   "source": [
    "es=elastic_connection(ES_HOST,basic_auth=basic_auth)"
   ]
  },
  {
   "cell_type": "code",
   "execution_count": 34,
   "metadata": {},
   "outputs": [
    {
     "name": "stdout",
     "output_type": "stream",
     "text": [
      "True\n"
     ]
    }
   ],
   "source": [
    "es.ping()"
   ]
  },
  {
   "cell_type": "code",
   "execution_count": 35,
   "metadata": {},
   "outputs": [],
   "source": [
    "#generar campos concatenados (parámetros)\n",
    "generateID_params_custom={'fields':['package_id','id'], #campos a concatenar\n",
    "                               'head':20, #numero de caracteres a dejar\n",
    "                                'sep':'_' #separador entre campos\n",
    "                               }"
   ]
  },
  {
   "cell_type": "code",
   "execution_count": 36,
   "metadata": {},
   "outputs": [],
   "source": [
    "es.generateID_params_custom=generateID_params_custom"
   ]
  },
  {
   "cell_type": "code",
   "execution_count": 37,
   "metadata": {},
   "outputs": [],
   "source": [
    "es.add_docs(recursos)"
   ]
  },
  {
   "cell_type": "code",
   "execution_count": 38,
   "metadata": {},
   "outputs": [],
   "source": [
    "#prepar la data para elastic search\n",
    "es.elastic_prepare_pattern()"
   ]
  },
  {
   "cell_type": "code",
   "execution_count": 39,
   "metadata": {},
   "outputs": [],
   "source": [
    "indexes=[\n",
    "    ('ckan','ckan')\n",
    "        ]"
   ]
  },
  {
   "cell_type": "code",
   "execution_count": 40,
   "metadata": {},
   "outputs": [
    {
     "name": "stdout",
     "output_type": "stream",
     "text": [
      "creando paquetes de data bulk\n",
      "size of bulk docs is : 0.1796875 Kbs\n",
      "N° docs: 10445.0, N° chunks: 14\n"
     ]
    }
   ],
   "source": [
    "#generar bulk data\n",
    "i=indexes[0]\n",
    "n=1500\n",
    "id_field='id'\n",
    "es.bulk_data(INDEX_NAME=i[0],_type=i[1],n=n,id_field=id_field)\n",
    "#test"
   ]
  },
  {
   "cell_type": "code",
   "execution_count": 41,
   "metadata": {},
   "outputs": [
    {
     "data": {
      "text/plain": [
       "1500"
      ]
     },
     "execution_count": 41,
     "metadata": {},
     "output_type": "execute_result"
    }
   ],
   "source": [
    "len(es.chunks[0])"
   ]
  },
  {
   "cell_type": "code",
   "execution_count": 42,
   "metadata": {},
   "outputs": [
    {
     "name": "stdout",
     "output_type": "stream",
     "text": [
      "deleting 'ckan' index...\n",
      " response: '{'acknowledged': True}'\n",
      "creating 'ckan' index...\n",
      " response: '{'acknowledged': True, 'shards_acknowledged': True, 'index': 'ckan'}'\n"
     ]
    }
   ],
   "source": [
    "es.clear_index(i[0])"
   ]
  },
  {
   "cell_type": "code",
   "execution_count": 43,
   "metadata": {},
   "outputs": [
    {
     "name": "stdout",
     "output_type": "stream",
     "text": [
      "bulk indexing...:index---> ckan\n",
      " indexing chunk : 13 of 14finished bulk indexing\n",
      "No recorded ES indexing errors\n",
      "No recorded ES indexing exceptions\n"
     ]
    }
   ],
   "source": [
    "es.bulk_index()"
   ]
  },
  {
   "cell_type": "code",
   "execution_count": 44,
   "metadata": {},
   "outputs": [
    {
     "ename": "AttributeError",
     "evalue": "'elastic_connection' object has no attribute 'errors'",
     "output_type": "error",
     "traceback": [
      "\u001b[0;31m---------------------------------------------------------------------------\u001b[0m",
      "\u001b[0;31mAttributeError\u001b[0m                            Traceback (most recent call last)",
      "\u001b[0;32m/tmp/ipykernel_77699/1035245361.py\u001b[0m in \u001b[0;36m<module>\u001b[0;34m\u001b[0m\n\u001b[0;32m----> 1\u001b[0;31m \u001b[0mes\u001b[0m\u001b[0;34m.\u001b[0m\u001b[0merrors\u001b[0m\u001b[0;34m\u001b[0m\u001b[0;34m\u001b[0m\u001b[0m\n\u001b[0m",
      "\u001b[0;31mAttributeError\u001b[0m: 'elastic_connection' object has no attribute 'errors'"
     ]
    }
   ],
   "source": [
    "es.errors"
   ]
  },
  {
   "cell_type": "code",
   "execution_count": 45,
   "metadata": {},
   "outputs": [
    {
     "name": "stderr",
     "output_type": "stream",
     "text": [
      "/home/francisco/Desktop/repos/opendata/ETL/../modules/Elastic_Module.py:78: FutureWarning: pandas.io.json.json_normalize is deprecated, use pandas.json_normalize instead\n",
      "  df = json_normalize([x['_source'] for x in res['hits']['hits']])\n"
     ]
    },
    {
     "data": {
      "text/html": [
       "<div>\n",
       "<style scoped>\n",
       "    .dataframe tbody tr th:only-of-type {\n",
       "        vertical-align: middle;\n",
       "    }\n",
       "\n",
       "    .dataframe tbody tr th {\n",
       "        vertical-align: top;\n",
       "    }\n",
       "\n",
       "    .dataframe thead th {\n",
       "        text-align: right;\n",
       "    }\n",
       "</style>\n",
       "<table border=\"1\" class=\"dataframe\">\n",
       "  <thead>\n",
       "    <tr style=\"text-align: right;\">\n",
       "      <th></th>\n",
       "      <th>package_id</th>\n",
       "      <th>datastore_contains_all_records_of_source_file</th>\n",
       "      <th>datastore_active</th>\n",
       "      <th>size</th>\n",
       "      <th>original_url</th>\n",
       "      <th>resource_id</th>\n",
       "      <th>set_url_type</th>\n",
       "      <th>state</th>\n",
       "      <th>ignore_hash</th>\n",
       "      <th>description</th>\n",
       "      <th>...</th>\n",
       "      <th>tags</th>\n",
       "      <th>inst.</th>\n",
       "      <th>inst_name</th>\n",
       "      <th>inst_id</th>\n",
       "      <th>document_image_upload</th>\n",
       "      <th>document_clear_upload</th>\n",
       "      <th>document_image_url</th>\n",
       "      <th>dia</th>\n",
       "      <th>year</th>\n",
       "      <th>mes</th>\n",
       "    </tr>\n",
       "  </thead>\n",
       "  <tbody>\n",
       "    <tr>\n",
       "      <th>0</th>\n",
       "      <td>3f0627f9-1d2f-4763-ab1c-2ba875893361</td>\n",
       "      <td>True</td>\n",
       "      <td>True</td>\n",
       "      <td>353076.0</td>\n",
       "      <td>https://datos.gob.cl/dataset/3f0627f9-1d2f-476...</td>\n",
       "      <td>0010ba8d-ca21-4c3a-8c79-551b64b8f2b3</td>\n",
       "      <td>False</td>\n",
       "      <td>active</td>\n",
       "      <td>True</td>\n",
       "      <td>Información de Ejecución Presupuestaria a Octu...</td>\n",
       "      <td>...</td>\n",
       "      <td>[2020, dipres, ejecución, octubre, presupuesta...</td>\n",
       "      <td>Dirección de Presupuestos</td>\n",
       "      <td>direccion_de_presupuestos</td>\n",
       "      <td>AE002</td>\n",
       "      <td>None</td>\n",
       "      <td>None</td>\n",
       "      <td>None</td>\n",
       "      <td>2020-12-04</td>\n",
       "      <td>2020.0</td>\n",
       "      <td>12.0</td>\n",
       "    </tr>\n",
       "    <tr>\n",
       "      <th>1</th>\n",
       "      <td>3f0627f9-1d2f-4763-ab1c-2ba875893361</td>\n",
       "      <td>True</td>\n",
       "      <td>True</td>\n",
       "      <td>8735024.0</td>\n",
       "      <td>https://datos.gob.cl/dataset/3f0627f9-1d2f-476...</td>\n",
       "      <td>71607249-5b53-4d93-a2e4-90ca8ab7bf5a</td>\n",
       "      <td>False</td>\n",
       "      <td>active</td>\n",
       "      <td>True</td>\n",
       "      <td>Información de Ejecución Presupuestaria a Octu...</td>\n",
       "      <td>...</td>\n",
       "      <td>[2020, dipres, ejecución, octubre, presupuesta...</td>\n",
       "      <td>Dirección de Presupuestos</td>\n",
       "      <td>direccion_de_presupuestos</td>\n",
       "      <td>AE002</td>\n",
       "      <td>None</td>\n",
       "      <td>None</td>\n",
       "      <td>None</td>\n",
       "      <td>2020-12-04</td>\n",
       "      <td>2020.0</td>\n",
       "      <td>12.0</td>\n",
       "    </tr>\n",
       "    <tr>\n",
       "      <th>2</th>\n",
       "      <td>3f0627f9-1d2f-4763-ab1c-2ba875893361</td>\n",
       "      <td>True</td>\n",
       "      <td>True</td>\n",
       "      <td>1646.0</td>\n",
       "      <td>https://datos.gob.cl/dataset/3f0627f9-1d2f-476...</td>\n",
       "      <td>35a0e991-90c3-40b9-afce-7c95920c4e59</td>\n",
       "      <td>False</td>\n",
       "      <td>active</td>\n",
       "      <td>True</td>\n",
       "      <td>Diccionario de Datos Abiertos de Ejecución Pre...</td>\n",
       "      <td>...</td>\n",
       "      <td>[2020, dipres, ejecución, octubre, presupuesta...</td>\n",
       "      <td>Dirección de Presupuestos</td>\n",
       "      <td>direccion_de_presupuestos</td>\n",
       "      <td>AE002</td>\n",
       "      <td>None</td>\n",
       "      <td>None</td>\n",
       "      <td>None</td>\n",
       "      <td>2020-12-04</td>\n",
       "      <td>2020.0</td>\n",
       "      <td>12.0</td>\n",
       "    </tr>\n",
       "    <tr>\n",
       "      <th>3</th>\n",
       "      <td>e64029a8-f4d4-4965-8968-709929c46beb</td>\n",
       "      <td>True</td>\n",
       "      <td>True</td>\n",
       "      <td>3271.0</td>\n",
       "      <td>https://datos.gob.cl/dataset/e64029a8-f4d4-496...</td>\n",
       "      <td>bcc4696c-5171-40c5-a38b-c88bb28e3df7</td>\n",
       "      <td>False</td>\n",
       "      <td>active</td>\n",
       "      <td>True</td>\n",
       "      <td>Información de Ley de Presupuestos Inicial y V...</td>\n",
       "      <td>...</td>\n",
       "      <td>[2020, dipres, ley, octubre, presupuesto]</td>\n",
       "      <td>Dirección de Presupuestos</td>\n",
       "      <td>direccion_de_presupuestos</td>\n",
       "      <td>AE002</td>\n",
       "      <td>None</td>\n",
       "      <td>None</td>\n",
       "      <td>None</td>\n",
       "      <td>2020-12-04</td>\n",
       "      <td>2020.0</td>\n",
       "      <td>12.0</td>\n",
       "    </tr>\n",
       "    <tr>\n",
       "      <th>4</th>\n",
       "      <td>e64029a8-f4d4-4965-8968-709929c46beb</td>\n",
       "      <td>True</td>\n",
       "      <td>True</td>\n",
       "      <td>58727.0</td>\n",
       "      <td>https://datos.gob.cl/dataset/e64029a8-f4d4-496...</td>\n",
       "      <td>43c43cd6-7845-414f-8611-0868d7dc3753</td>\n",
       "      <td>False</td>\n",
       "      <td>active</td>\n",
       "      <td>True</td>\n",
       "      <td>Información de Ley de Presupuestos Inicial y V...</td>\n",
       "      <td>...</td>\n",
       "      <td>[2020, dipres, ley, octubre, presupuesto]</td>\n",
       "      <td>Dirección de Presupuestos</td>\n",
       "      <td>direccion_de_presupuestos</td>\n",
       "      <td>AE002</td>\n",
       "      <td>None</td>\n",
       "      <td>None</td>\n",
       "      <td>None</td>\n",
       "      <td>2020-12-04</td>\n",
       "      <td>2020.0</td>\n",
       "      <td>12.0</td>\n",
       "    </tr>\n",
       "    <tr>\n",
       "      <th>5</th>\n",
       "      <td>e64029a8-f4d4-4965-8968-709929c46beb</td>\n",
       "      <td>True</td>\n",
       "      <td>True</td>\n",
       "      <td>417534.0</td>\n",
       "      <td>https://datos.gob.cl/dataset/e64029a8-f4d4-496...</td>\n",
       "      <td>0de789a9-6158-467b-a602-4cc282a1cd5b</td>\n",
       "      <td>False</td>\n",
       "      <td>active</td>\n",
       "      <td>True</td>\n",
       "      <td>Información de Ley de Presupuestos Inicial y V...</td>\n",
       "      <td>...</td>\n",
       "      <td>[2020, dipres, ley, octubre, presupuesto]</td>\n",
       "      <td>Dirección de Presupuestos</td>\n",
       "      <td>direccion_de_presupuestos</td>\n",
       "      <td>AE002</td>\n",
       "      <td>None</td>\n",
       "      <td>None</td>\n",
       "      <td>None</td>\n",
       "      <td>2020-12-04</td>\n",
       "      <td>2020.0</td>\n",
       "      <td>12.0</td>\n",
       "    </tr>\n",
       "    <tr>\n",
       "      <th>6</th>\n",
       "      <td>e64029a8-f4d4-4965-8968-709929c46beb</td>\n",
       "      <td>True</td>\n",
       "      <td>True</td>\n",
       "      <td>2777123.0</td>\n",
       "      <td>https://datos.gob.cl/dataset/e64029a8-f4d4-496...</td>\n",
       "      <td>9c5391de-53a2-4ef9-8849-eb2728eca53d</td>\n",
       "      <td>False</td>\n",
       "      <td>active</td>\n",
       "      <td>True</td>\n",
       "      <td>Información de Ley de Presupuestos Inicial y V...</td>\n",
       "      <td>...</td>\n",
       "      <td>[2020, dipres, ley, octubre, presupuesto]</td>\n",
       "      <td>Dirección de Presupuestos</td>\n",
       "      <td>direccion_de_presupuestos</td>\n",
       "      <td>AE002</td>\n",
       "      <td>None</td>\n",
       "      <td>None</td>\n",
       "      <td>None</td>\n",
       "      <td>2020-12-04</td>\n",
       "      <td>2020.0</td>\n",
       "      <td>12.0</td>\n",
       "    </tr>\n",
       "    <tr>\n",
       "      <th>7</th>\n",
       "      <td>e64029a8-f4d4-4965-8968-709929c46beb</td>\n",
       "      <td>True</td>\n",
       "      <td>True</td>\n",
       "      <td>1642.0</td>\n",
       "      <td>https://datos.gob.cl/dataset/e64029a8-f4d4-496...</td>\n",
       "      <td>c3802150-1bfe-46da-b4a1-fa76b3371415</td>\n",
       "      <td>False</td>\n",
       "      <td>active</td>\n",
       "      <td>True</td>\n",
       "      <td>Diccionario de Datos Abiertos de Ley de Presup...</td>\n",
       "      <td>...</td>\n",
       "      <td>[2020, dipres, ley, octubre, presupuesto]</td>\n",
       "      <td>Dirección de Presupuestos</td>\n",
       "      <td>direccion_de_presupuestos</td>\n",
       "      <td>AE002</td>\n",
       "      <td>None</td>\n",
       "      <td>None</td>\n",
       "      <td>None</td>\n",
       "      <td>2020-12-04</td>\n",
       "      <td>2020.0</td>\n",
       "      <td>12.0</td>\n",
       "    </tr>\n",
       "    <tr>\n",
       "      <th>8</th>\n",
       "      <td>f1918e3c-fef8-4d28-995f-ddbfce352565</td>\n",
       "      <td>True</td>\n",
       "      <td>True</td>\n",
       "      <td>1055744.0</td>\n",
       "      <td>https://datos.gob.cl/dataset/f1918e3c-fef8-4d2...</td>\n",
       "      <td>e53591c7-b465-4809-a7ac-ca083ca1063a</td>\n",
       "      <td>False</td>\n",
       "      <td>active</td>\n",
       "      <td>False</td>\n",
       "      <td>Patentes Comerciales Segundo Semestre Año 2020</td>\n",
       "      <td>...</td>\n",
       "      <td>[Patentes Comerciales Segundo Semestre Año 2020]</td>\n",
       "      <td>Municipalidad de San Felipe</td>\n",
       "      <td>municipalidad_de_san_felipe</td>\n",
       "      <td>MU286</td>\n",
       "      <td>None</td>\n",
       "      <td>None</td>\n",
       "      <td>None</td>\n",
       "      <td>2020-12-03</td>\n",
       "      <td>2020.0</td>\n",
       "      <td>12.0</td>\n",
       "    </tr>\n",
       "    <tr>\n",
       "      <th>9</th>\n",
       "      <td>47048cfa-7449-4a56-9f05-10bd88b6f8ec</td>\n",
       "      <td>True</td>\n",
       "      <td>True</td>\n",
       "      <td>NaN</td>\n",
       "      <td>https://prod.datos.gob.cl/dataset/47048cfa-744...</td>\n",
       "      <td>ad286aeb-1e2e-4b99-b9a2-3bf1ec011f32</td>\n",
       "      <td>False</td>\n",
       "      <td>active</td>\n",
       "      <td>True</td>\n",
       "      <td>Numero de Consultas mensual para las Unidades ...</td>\n",
       "      <td>...</td>\n",
       "      <td>[atención de urgencias, emergencias, urgencias]</td>\n",
       "      <td>Hospital Gustavo Fricke</td>\n",
       "      <td>hospital_gustavo_fricke</td>\n",
       "      <td>AO098</td>\n",
       "      <td>None</td>\n",
       "      <td>None</td>\n",
       "      <td>None</td>\n",
       "      <td>2020-11-03</td>\n",
       "      <td>2020.0</td>\n",
       "      <td>11.0</td>\n",
       "    </tr>\n",
       "    <tr>\n",
       "      <th>10</th>\n",
       "      <td>47048cfa-7449-4a56-9f05-10bd88b6f8ec</td>\n",
       "      <td>True</td>\n",
       "      <td>True</td>\n",
       "      <td>NaN</td>\n",
       "      <td>https://prod.datos.gob.cl/dataset/47048cfa-744...</td>\n",
       "      <td>4309d2ba-e8d7-4a8c-8d19-a9450967ebad</td>\n",
       "      <td>False</td>\n",
       "      <td>active</td>\n",
       "      <td>True</td>\n",
       "      <td>Numero de Consultas mensual para las Unidades ...</td>\n",
       "      <td>...</td>\n",
       "      <td>[atención de urgencias, emergencias, urgencias]</td>\n",
       "      <td>Hospital Gustavo Fricke</td>\n",
       "      <td>hospital_gustavo_fricke</td>\n",
       "      <td>AO098</td>\n",
       "      <td>None</td>\n",
       "      <td>None</td>\n",
       "      <td>None</td>\n",
       "      <td>2020-11-03</td>\n",
       "      <td>2020.0</td>\n",
       "      <td>11.0</td>\n",
       "    </tr>\n",
       "    <tr>\n",
       "      <th>11</th>\n",
       "      <td>47048cfa-7449-4a56-9f05-10bd88b6f8ec</td>\n",
       "      <td>True</td>\n",
       "      <td>True</td>\n",
       "      <td>NaN</td>\n",
       "      <td>https://prod.datos.gob.cl/dataset/47048cfa-744...</td>\n",
       "      <td>ee18fc0b-e176-4f65-a99e-c87959ea752e</td>\n",
       "      <td>False</td>\n",
       "      <td>active</td>\n",
       "      <td>True</td>\n",
       "      <td>Numero de Consultas mensual para las Unidades ...</td>\n",
       "      <td>...</td>\n",
       "      <td>[atención de urgencias, emergencias, urgencias]</td>\n",
       "      <td>Hospital Gustavo Fricke</td>\n",
       "      <td>hospital_gustavo_fricke</td>\n",
       "      <td>AO098</td>\n",
       "      <td>None</td>\n",
       "      <td>None</td>\n",
       "      <td>None</td>\n",
       "      <td>2020-11-04</td>\n",
       "      <td>2020.0</td>\n",
       "      <td>11.0</td>\n",
       "    </tr>\n",
       "    <tr>\n",
       "      <th>12</th>\n",
       "      <td>47048cfa-7449-4a56-9f05-10bd88b6f8ec</td>\n",
       "      <td>True</td>\n",
       "      <td>True</td>\n",
       "      <td>NaN</td>\n",
       "      <td>https://prod.datos.gob.cl/dataset/47048cfa-744...</td>\n",
       "      <td>73b3e9e3-d137-4010-a06c-8e614441822c</td>\n",
       "      <td>False</td>\n",
       "      <td>active</td>\n",
       "      <td>True</td>\n",
       "      <td>Numero de Consultas mensual para las Unidades ...</td>\n",
       "      <td>...</td>\n",
       "      <td>[atención de urgencias, emergencias, urgencias]</td>\n",
       "      <td>Hospital Gustavo Fricke</td>\n",
       "      <td>hospital_gustavo_fricke</td>\n",
       "      <td>AO098</td>\n",
       "      <td>None</td>\n",
       "      <td>None</td>\n",
       "      <td>None</td>\n",
       "      <td>2020-11-04</td>\n",
       "      <td>2020.0</td>\n",
       "      <td>11.0</td>\n",
       "    </tr>\n",
       "    <tr>\n",
       "      <th>13</th>\n",
       "      <td>47048cfa-7449-4a56-9f05-10bd88b6f8ec</td>\n",
       "      <td>True</td>\n",
       "      <td>True</td>\n",
       "      <td>NaN</td>\n",
       "      <td>https://prod.datos.gob.cl/dataset/47048cfa-744...</td>\n",
       "      <td>d2798c33-a882-4429-8b75-35f2324a0bcc</td>\n",
       "      <td>False</td>\n",
       "      <td>active</td>\n",
       "      <td>True</td>\n",
       "      <td>Numero de Consultas mensual para las Unidades ...</td>\n",
       "      <td>...</td>\n",
       "      <td>[atención de urgencias, emergencias, urgencias]</td>\n",
       "      <td>Hospital Gustavo Fricke</td>\n",
       "      <td>hospital_gustavo_fricke</td>\n",
       "      <td>AO098</td>\n",
       "      <td>None</td>\n",
       "      <td>None</td>\n",
       "      <td>None</td>\n",
       "      <td>2020-11-04</td>\n",
       "      <td>2020.0</td>\n",
       "      <td>11.0</td>\n",
       "    </tr>\n",
       "    <tr>\n",
       "      <th>14</th>\n",
       "      <td>47048cfa-7449-4a56-9f05-10bd88b6f8ec</td>\n",
       "      <td>True</td>\n",
       "      <td>True</td>\n",
       "      <td>NaN</td>\n",
       "      <td>https://prod.datos.gob.cl/dataset/47048cfa-744...</td>\n",
       "      <td>bc351fb4-1ed4-465b-a639-f3b3a511ffb6</td>\n",
       "      <td>False</td>\n",
       "      <td>active</td>\n",
       "      <td>True</td>\n",
       "      <td>Numero de Consultas mensual para las Unidades ...</td>\n",
       "      <td>...</td>\n",
       "      <td>[atención de urgencias, emergencias, urgencias]</td>\n",
       "      <td>Hospital Gustavo Fricke</td>\n",
       "      <td>hospital_gustavo_fricke</td>\n",
       "      <td>AO098</td>\n",
       "      <td>None</td>\n",
       "      <td>None</td>\n",
       "      <td>None</td>\n",
       "      <td>2020-11-04</td>\n",
       "      <td>2020.0</td>\n",
       "      <td>11.0</td>\n",
       "    </tr>\n",
       "  </tbody>\n",
       "</table>\n",
       "<p>15 rows × 31 columns</p>\n",
       "</div>"
      ],
      "text/plain": [
       "                              package_id  \\\n",
       "0   3f0627f9-1d2f-4763-ab1c-2ba875893361   \n",
       "1   3f0627f9-1d2f-4763-ab1c-2ba875893361   \n",
       "2   3f0627f9-1d2f-4763-ab1c-2ba875893361   \n",
       "3   e64029a8-f4d4-4965-8968-709929c46beb   \n",
       "4   e64029a8-f4d4-4965-8968-709929c46beb   \n",
       "5   e64029a8-f4d4-4965-8968-709929c46beb   \n",
       "6   e64029a8-f4d4-4965-8968-709929c46beb   \n",
       "7   e64029a8-f4d4-4965-8968-709929c46beb   \n",
       "8   f1918e3c-fef8-4d28-995f-ddbfce352565   \n",
       "9   47048cfa-7449-4a56-9f05-10bd88b6f8ec   \n",
       "10  47048cfa-7449-4a56-9f05-10bd88b6f8ec   \n",
       "11  47048cfa-7449-4a56-9f05-10bd88b6f8ec   \n",
       "12  47048cfa-7449-4a56-9f05-10bd88b6f8ec   \n",
       "13  47048cfa-7449-4a56-9f05-10bd88b6f8ec   \n",
       "14  47048cfa-7449-4a56-9f05-10bd88b6f8ec   \n",
       "\n",
       "   datastore_contains_all_records_of_source_file  datastore_active       size  \\\n",
       "0                                           True              True   353076.0   \n",
       "1                                           True              True  8735024.0   \n",
       "2                                           True              True     1646.0   \n",
       "3                                           True              True     3271.0   \n",
       "4                                           True              True    58727.0   \n",
       "5                                           True              True   417534.0   \n",
       "6                                           True              True  2777123.0   \n",
       "7                                           True              True     1642.0   \n",
       "8                                           True              True  1055744.0   \n",
       "9                                           True              True        NaN   \n",
       "10                                          True              True        NaN   \n",
       "11                                          True              True        NaN   \n",
       "12                                          True              True        NaN   \n",
       "13                                          True              True        NaN   \n",
       "14                                          True              True        NaN   \n",
       "\n",
       "                                         original_url  \\\n",
       "0   https://datos.gob.cl/dataset/3f0627f9-1d2f-476...   \n",
       "1   https://datos.gob.cl/dataset/3f0627f9-1d2f-476...   \n",
       "2   https://datos.gob.cl/dataset/3f0627f9-1d2f-476...   \n",
       "3   https://datos.gob.cl/dataset/e64029a8-f4d4-496...   \n",
       "4   https://datos.gob.cl/dataset/e64029a8-f4d4-496...   \n",
       "5   https://datos.gob.cl/dataset/e64029a8-f4d4-496...   \n",
       "6   https://datos.gob.cl/dataset/e64029a8-f4d4-496...   \n",
       "7   https://datos.gob.cl/dataset/e64029a8-f4d4-496...   \n",
       "8   https://datos.gob.cl/dataset/f1918e3c-fef8-4d2...   \n",
       "9   https://prod.datos.gob.cl/dataset/47048cfa-744...   \n",
       "10  https://prod.datos.gob.cl/dataset/47048cfa-744...   \n",
       "11  https://prod.datos.gob.cl/dataset/47048cfa-744...   \n",
       "12  https://prod.datos.gob.cl/dataset/47048cfa-744...   \n",
       "13  https://prod.datos.gob.cl/dataset/47048cfa-744...   \n",
       "14  https://prod.datos.gob.cl/dataset/47048cfa-744...   \n",
       "\n",
       "                             resource_id set_url_type   state ignore_hash  \\\n",
       "0   0010ba8d-ca21-4c3a-8c79-551b64b8f2b3        False  active        True   \n",
       "1   71607249-5b53-4d93-a2e4-90ca8ab7bf5a        False  active        True   \n",
       "2   35a0e991-90c3-40b9-afce-7c95920c4e59        False  active        True   \n",
       "3   bcc4696c-5171-40c5-a38b-c88bb28e3df7        False  active        True   \n",
       "4   43c43cd6-7845-414f-8611-0868d7dc3753        False  active        True   \n",
       "5   0de789a9-6158-467b-a602-4cc282a1cd5b        False  active        True   \n",
       "6   9c5391de-53a2-4ef9-8849-eb2728eca53d        False  active        True   \n",
       "7   c3802150-1bfe-46da-b4a1-fa76b3371415        False  active        True   \n",
       "8   e53591c7-b465-4809-a7ac-ca083ca1063a        False  active       False   \n",
       "9   ad286aeb-1e2e-4b99-b9a2-3bf1ec011f32        False  active        True   \n",
       "10  4309d2ba-e8d7-4a8c-8d19-a9450967ebad        False  active        True   \n",
       "11  ee18fc0b-e176-4f65-a99e-c87959ea752e        False  active        True   \n",
       "12  73b3e9e3-d137-4010-a06c-8e614441822c        False  active        True   \n",
       "13  d2798c33-a882-4429-8b75-35f2324a0bcc        False  active        True   \n",
       "14  bc351fb4-1ed4-465b-a639-f3b3a511ffb6        False  active        True   \n",
       "\n",
       "                                          description  ...  \\\n",
       "0   Información de Ejecución Presupuestaria a Octu...  ...   \n",
       "1   Información de Ejecución Presupuestaria a Octu...  ...   \n",
       "2   Diccionario de Datos Abiertos de Ejecución Pre...  ...   \n",
       "3   Información de Ley de Presupuestos Inicial y V...  ...   \n",
       "4   Información de Ley de Presupuestos Inicial y V...  ...   \n",
       "5   Información de Ley de Presupuestos Inicial y V...  ...   \n",
       "6   Información de Ley de Presupuestos Inicial y V...  ...   \n",
       "7   Diccionario de Datos Abiertos de Ley de Presup...  ...   \n",
       "8      Patentes Comerciales Segundo Semestre Año 2020  ...   \n",
       "9   Numero de Consultas mensual para las Unidades ...  ...   \n",
       "10  Numero de Consultas mensual para las Unidades ...  ...   \n",
       "11  Numero de Consultas mensual para las Unidades ...  ...   \n",
       "12  Numero de Consultas mensual para las Unidades ...  ...   \n",
       "13  Numero de Consultas mensual para las Unidades ...  ...   \n",
       "14  Numero de Consultas mensual para las Unidades ...  ...   \n",
       "\n",
       "                                                 tags  \\\n",
       "0   [2020, dipres, ejecución, octubre, presupuesta...   \n",
       "1   [2020, dipres, ejecución, octubre, presupuesta...   \n",
       "2   [2020, dipres, ejecución, octubre, presupuesta...   \n",
       "3           [2020, dipres, ley, octubre, presupuesto]   \n",
       "4           [2020, dipres, ley, octubre, presupuesto]   \n",
       "5           [2020, dipres, ley, octubre, presupuesto]   \n",
       "6           [2020, dipres, ley, octubre, presupuesto]   \n",
       "7           [2020, dipres, ley, octubre, presupuesto]   \n",
       "8    [Patentes Comerciales Segundo Semestre Año 2020]   \n",
       "9     [atención de urgencias, emergencias, urgencias]   \n",
       "10    [atención de urgencias, emergencias, urgencias]   \n",
       "11    [atención de urgencias, emergencias, urgencias]   \n",
       "12    [atención de urgencias, emergencias, urgencias]   \n",
       "13    [atención de urgencias, emergencias, urgencias]   \n",
       "14    [atención de urgencias, emergencias, urgencias]   \n",
       "\n",
       "                          inst.                    inst_name inst_id  \\\n",
       "0     Dirección de Presupuestos    direccion_de_presupuestos   AE002   \n",
       "1     Dirección de Presupuestos    direccion_de_presupuestos   AE002   \n",
       "2     Dirección de Presupuestos    direccion_de_presupuestos   AE002   \n",
       "3     Dirección de Presupuestos    direccion_de_presupuestos   AE002   \n",
       "4     Dirección de Presupuestos    direccion_de_presupuestos   AE002   \n",
       "5     Dirección de Presupuestos    direccion_de_presupuestos   AE002   \n",
       "6     Dirección de Presupuestos    direccion_de_presupuestos   AE002   \n",
       "7     Dirección de Presupuestos    direccion_de_presupuestos   AE002   \n",
       "8   Municipalidad de San Felipe  municipalidad_de_san_felipe   MU286   \n",
       "9       Hospital Gustavo Fricke      hospital_gustavo_fricke   AO098   \n",
       "10      Hospital Gustavo Fricke      hospital_gustavo_fricke   AO098   \n",
       "11      Hospital Gustavo Fricke      hospital_gustavo_fricke   AO098   \n",
       "12      Hospital Gustavo Fricke      hospital_gustavo_fricke   AO098   \n",
       "13      Hospital Gustavo Fricke      hospital_gustavo_fricke   AO098   \n",
       "14      Hospital Gustavo Fricke      hospital_gustavo_fricke   AO098   \n",
       "\n",
       "   document_image_upload document_clear_upload document_image_url         dia  \\\n",
       "0                   None                  None               None  2020-12-04   \n",
       "1                   None                  None               None  2020-12-04   \n",
       "2                   None                  None               None  2020-12-04   \n",
       "3                   None                  None               None  2020-12-04   \n",
       "4                   None                  None               None  2020-12-04   \n",
       "5                   None                  None               None  2020-12-04   \n",
       "6                   None                  None               None  2020-12-04   \n",
       "7                   None                  None               None  2020-12-04   \n",
       "8                   None                  None               None  2020-12-03   \n",
       "9                   None                  None               None  2020-11-03   \n",
       "10                  None                  None               None  2020-11-03   \n",
       "11                  None                  None               None  2020-11-04   \n",
       "12                  None                  None               None  2020-11-04   \n",
       "13                  None                  None               None  2020-11-04   \n",
       "14                  None                  None               None  2020-11-04   \n",
       "\n",
       "      year   mes  \n",
       "0   2020.0  12.0  \n",
       "1   2020.0  12.0  \n",
       "2   2020.0  12.0  \n",
       "3   2020.0  12.0  \n",
       "4   2020.0  12.0  \n",
       "5   2020.0  12.0  \n",
       "6   2020.0  12.0  \n",
       "7   2020.0  12.0  \n",
       "8   2020.0  12.0  \n",
       "9   2020.0  11.0  \n",
       "10  2020.0  11.0  \n",
       "11  2020.0  11.0  \n",
       "12  2020.0  11.0  \n",
       "13  2020.0  11.0  \n",
       "14  2020.0  11.0  \n",
       "\n",
       "[15 rows x 31 columns]"
      ]
     },
     "execution_count": 45,
     "metadata": {},
     "output_type": "execute_result"
    }
   ],
   "source": [
    "es.test_index(i[0],n=15)"
   ]
  },
  {
   "cell_type": "code",
   "execution_count": 46,
   "metadata": {},
   "outputs": [
    {
     "data": {
      "text/plain": [
       "['.security-7',\n",
       " 'kibana_sample_data_flights',\n",
       " '.kibana_task_manager',\n",
       " '.kibana_1',\n",
       " 'ckan']"
      ]
     },
     "execution_count": 46,
     "metadata": {},
     "output_type": "execute_result"
    }
   ],
   "source": [
    "es.list_indices()"
   ]
  }
 ],
 "metadata": {
  "kernelspec": {
   "display_name": "Python 3 (ipykernel)",
   "language": "python",
   "name": "python3"
  },
  "language_info": {
   "codemirror_mode": {
    "name": "ipython",
    "version": 3
   },
   "file_extension": ".py",
   "mimetype": "text/x-python",
   "name": "python",
   "nbconvert_exporter": "python",
   "pygments_lexer": "ipython3",
   "version": "3.9.7"
  }
 },
 "nbformat": 4,
 "nbformat_minor": 2
}
