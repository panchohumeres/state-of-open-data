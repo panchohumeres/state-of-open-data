{
 "cells": [
  {
   "cell_type": "code",
   "execution_count": 1,
   "metadata": {},
   "outputs": [],
   "source": [
    "import requests\n",
    "import pandas as pd\n",
    "import numpy as np\n",
    "from elasticsearch import Elasticsearch\n",
    "import os\n",
    "from datetime import datetime as dt\n",
    "import os.path\n",
    "from os import path\n",
    "import sys\n",
    "from importlib import reload\n",
    "import copy\n",
    "import pickle"
   ]
  },
  {
   "cell_type": "code",
   "execution_count": 2,
   "metadata": {},
   "outputs": [],
   "source": [
    "sys.path.append('..')"
   ]
  },
  {
   "cell_type": "code",
   "execution_count": 3,
   "metadata": {},
   "outputs": [
    {
     "data": {
      "text/plain": [
       "<module 'modules.Elastic_Module' from '../modules/Elastic_Module.py'>"
      ]
     },
     "execution_count": 3,
     "metadata": {},
     "output_type": "execute_result"
    }
   ],
   "source": [
    "import modules.Elastic_Module\n",
    "reload(modules.Elastic_Module)"
   ]
  },
  {
   "cell_type": "code",
   "execution_count": 4,
   "metadata": {},
   "outputs": [],
   "source": [
    "from modules.Elastic_Module import *"
   ]
  },
  {
   "cell_type": "code",
   "execution_count": 5,
   "metadata": {},
   "outputs": [],
   "source": [
    "url_ckan='http://datos.gob.cl/api/3/action/package_list'\n",
    "url_package='http://datos.gob.cl/api/3/action/package_show?id='\n",
    "url_package_search='http://datos.gob.cl/api/3/action/package_search?'"
   ]
  },
  {
   "cell_type": "code",
   "execution_count": 6,
   "metadata": {},
   "outputs": [],
   "source": [
    "#Listas de paquetes ckan (con sus ID)\n",
    "ckan_packages=requests.get(url_ckan) #consultar api\n",
    "ckan_packages=ckan_packages.json() #convertir respuesta a json"
   ]
  },
  {
   "cell_type": "code",
   "execution_count": 7,
   "metadata": {},
   "outputs": [],
   "source": [
    "#OBTENER TODOS LOS PAQUETES DE LA BASE DE DATOS CKAN\n",
    "rows=str(1000) #maximo numero de resultados por consulta (maximo permitido es 1000)\n",
    "packs=[] #contenedor de paquetes retornados\n",
    "for s in range(0,4):\n",
    "    start=str(s*int(rows)) #paginacion\n",
    "    packages=requests.get(url_package_search+'rows='+rows+'&'+'start='+start)\n",
    "    packages=packages.json()\n",
    "    packs.extend(packages['result']['results'])"
   ]
  },
  {
   "cell_type": "code",
   "execution_count": 8,
   "metadata": {},
   "outputs": [],
   "source": [
    "recursos=[]\n",
    "for p in packs:\n",
    "    for r in p['resources']:\n",
    "        d=copy.deepcopy(r)\n",
    "        #parámetros del paquete\n",
    "        d['package_id']=p['id'] #id\n",
    "        d['package_name']=p['name'] #nombre\n",
    "        d['package_title']=p['title'] #titulo\n",
    "        d['package_notes']=p['notes'] #notas\n",
    "        if 'organization' in p.keys(): #si es que existe info de organizacion\n",
    "            if p['organization']!=None:\n",
    "                d['inst.']=p['organization']['title'] #si es que existe info del titulo incluirlo\n",
    "                d['inst_name']=p['organization']['name'] #si es que existe info del titulo incluirlo\n",
    "                d['inst_id']=p['organization']['id'] #si es que existe info del id inst.\n",
    "            else:\n",
    "                d['inst.']=None\n",
    "                d['inst_name']=None\n",
    "                d['inst_id']=None\n",
    "        recursos.append(d)\n",
    "recursos=pd.DataFrame(recursos) #convertir a df      "
   ]
  },
  {
   "cell_type": "code",
   "execution_count": 9,
   "metadata": {},
   "outputs": [],
   "source": [
    "recursos=recursos.rename(columns={'last_modified':'fecha','format':'formato'}) #cambiar nombres de columnas"
   ]
  },
  {
   "cell_type": "code",
   "execution_count": 11,
   "metadata": {},
   "outputs": [],
   "source": [
    "recursos=recursos.drop(['mimetype','cache_url','url','cache_last_updated','hash','url_type',\n",
    "              'mimetype_inner','position','resource_type'],axis=1) #botar columnas"
   ]
  },
  {
   "cell_type": "code",
   "execution_count": 12,
   "metadata": {},
   "outputs": [],
   "source": [
    "recursos['fecha']=pd.to_datetime(recursos['fecha']) #convertir la fecha a formato solo con la fecha (sin la hora)\n",
    "#desagregar en dia, mes, año\n",
    "recursos['dia']=recursos['fecha'].dt.date\n",
    "recursos['year']=recursos['fecha'].dt.year\n",
    "recursos['mes']=recursos['fecha'].dt.month"
   ]
  },
  {
   "cell_type": "code",
   "execution_count": 11,
   "metadata": {},
   "outputs": [],
   "source": [
    "data=recursos.to_dict(orient='records')"
   ]
  },
  {
   "cell_type": "code",
   "execution_count": 22,
   "metadata": {},
   "outputs": [],
   "source": [
    "#guardar paso en csv\n",
    "path='../ETLcache/'\n",
    "now = dt.now()\n",
    "date_time = now.strftime(\"_%m-%d-%Y_%H-%M-%S\")"
   ]
  },
  {
   "cell_type": "code",
   "execution_count": 23,
   "metadata": {},
   "outputs": [],
   "source": [
    "recursos.to_csv(path+date_time+'.csv')"
   ]
  },
  {
   "cell_type": "code",
   "execution_count": 24,
   "metadata": {},
   "outputs": [],
   "source": [
    "#guardar data de paquetes cruda en pickle y borrar para liberar espacio en memoria\n",
    "with open(path+date_time+'.pickle', 'wb') as f:\n",
    "    pickle.dump(packs, f)\n",
    "del(packs)"
   ]
  },
  {
   "cell_type": "code",
   "execution_count": 13,
   "metadata": {},
   "outputs": [],
   "source": [
    "#es = Elasticsearch(hosts = [ES_HOST],http_auth=('elastic', '                    # replace with the empty string'))"
   ]
  },
  {
   "cell_type": "code",
   "execution_count": 27,
   "metadata": {},
   "outputs": [],
   "source": [
    "#variables de entorno\n",
    "args={}\n",
    "args['elastic_user']='elastic'\n",
    "args['elastic_psswd']=os.environ['ELASTIC_PASSWD']\n",
    "args['DOMAIN_ELASTIC']=os.environ['DOMAIN_ELASTIC']\n",
    "args['ELASTIC_PORT']=os.environ['ELASTIC_PORT']"
   ]
  },
  {
   "cell_type": "code",
   "execution_count": 28,
   "metadata": {},
   "outputs": [],
   "source": [
    "ES_HOST = \"https://\"+args['DOMAIN_ELASTIC']\n",
    "basic_auth={'user':args['elastic_user'], 'psswd':args['elastic_psswd']}"
   ]
  },
  {
   "cell_type": "code",
   "execution_count": 42,
   "metadata": {},
   "outputs": [],
   "source": [
    "es=elastic_connection(ES_HOST,basic_auth=basic_auth)"
   ]
  },
  {
   "cell_type": "code",
   "execution_count": 43,
   "metadata": {},
   "outputs": [
    {
     "name": "stdout",
     "output_type": "stream",
     "text": [
      "True\n"
     ]
    }
   ],
   "source": [
    "es.ping()"
   ]
  },
  {
   "cell_type": "code",
   "execution_count": 44,
   "metadata": {},
   "outputs": [],
   "source": [
    "#generar campos concatenados (parámetros)\n",
    "generateID_params_custom={'fields':['package_id','id'], #campos a concatenar\n",
    "                               'head':20, #numero de caracteres a dejar\n",
    "                                'sep':'_' #separador entre campos\n",
    "                               }"
   ]
  },
  {
   "cell_type": "code",
   "execution_count": 45,
   "metadata": {},
   "outputs": [],
   "source": [
    "es.generateID_params_custom=generateID_params_custom"
   ]
  },
  {
   "cell_type": "code",
   "execution_count": 46,
   "metadata": {},
   "outputs": [],
   "source": [
    "es.add_docs(recursos)"
   ]
  },
  {
   "cell_type": "code",
   "execution_count": 47,
   "metadata": {},
   "outputs": [],
   "source": [
    "#prepar la data para elastic search\n",
    "es.elastic_prepare_pattern()"
   ]
  },
  {
   "cell_type": "code",
   "execution_count": 48,
   "metadata": {},
   "outputs": [],
   "source": [
    "indexes=[\n",
    "    ('ckan','ckan')\n",
    "        ]"
   ]
  },
  {
   "cell_type": "code",
   "execution_count": 49,
   "metadata": {},
   "outputs": [
    {
     "name": "stdout",
     "output_type": "stream",
     "text": [
      "creando paquetes de data bulk\n",
      "size of bulk docs is : 0.1796875 Kbs\n",
      "N° docs: 10871.0, N° chunks: 15\n"
     ]
    }
   ],
   "source": [
    "#generar bulk data\n",
    "i=indexes[0]\n",
    "n=1500\n",
    "id_field='id'\n",
    "es.bulk_data(INDEX_NAME=i[0],_type=i[1],n=n,id_field=id_field)\n",
    "#test"
   ]
  },
  {
   "cell_type": "code",
   "execution_count": 50,
   "metadata": {},
   "outputs": [
    {
     "data": {
      "text/plain": [
       "1500"
      ]
     },
     "execution_count": 50,
     "metadata": {},
     "output_type": "execute_result"
    }
   ],
   "source": [
    "len(es.chunks[0])"
   ]
  },
  {
   "cell_type": "code",
   "execution_count": 53,
   "metadata": {},
   "outputs": [
    {
     "name": "stdout",
     "output_type": "stream",
     "text": [
      "deleting 'ckan' index...\n",
      " response: '{'acknowledged': True}'\n",
      "creating 'ckan' index...\n",
      " response: '{'acknowledged': True, 'shards_acknowledged': True, 'index': 'ckan'}'\n"
     ]
    }
   ],
   "source": [
    "es.clear_index(i[0])"
   ]
  },
  {
   "cell_type": "code",
   "execution_count": 54,
   "metadata": {},
   "outputs": [
    {
     "name": "stdout",
     "output_type": "stream",
     "text": [
      "bulk indexing...:index---> ckan\n",
      " indexing chunk : 14 of 15finished bulk indexing\n",
      "No recorded ES indexing errors\n",
      "No recorded ES indexing exceptions\n"
     ]
    }
   ],
   "source": [
    "es.bulk_index()"
   ]
  },
  {
   "cell_type": "code",
   "execution_count": 57,
   "metadata": {},
   "outputs": [
    {
     "ename": "AttributeError",
     "evalue": "'elastic_connection' object has no attribute 'errors'",
     "output_type": "error",
     "traceback": [
      "\u001b[0;31m---------------------------------------------------------------------------\u001b[0m",
      "\u001b[0;31mAttributeError\u001b[0m                            Traceback (most recent call last)",
      "\u001b[0;32m<ipython-input-57-4541120b1e1d>\u001b[0m in \u001b[0;36m<module>\u001b[0;34m\u001b[0m\n\u001b[0;32m----> 1\u001b[0;31m \u001b[0mes\u001b[0m\u001b[0;34m.\u001b[0m\u001b[0merrors\u001b[0m\u001b[0;34m\u001b[0m\u001b[0;34m\u001b[0m\u001b[0m\n\u001b[0m",
      "\u001b[0;31mAttributeError\u001b[0m: 'elastic_connection' object has no attribute 'errors'"
     ]
    }
   ],
   "source": [
    "es.errors"
   ]
  },
  {
   "cell_type": "code",
   "execution_count": 55,
   "metadata": {},
   "outputs": [
    {
     "name": "stderr",
     "output_type": "stream",
     "text": [
      "../modules/Elastic_Module.py:78: FutureWarning: pandas.io.json.json_normalize is deprecated, use pandas.json_normalize instead\n",
      "  df = json_normalize([x['_source'] for x in res['hits']['hits']])\n"
     ]
    },
    {
     "data": {
      "text/html": [
       "<div>\n",
       "<style scoped>\n",
       "    .dataframe tbody tr th:only-of-type {\n",
       "        vertical-align: middle;\n",
       "    }\n",
       "\n",
       "    .dataframe tbody tr th {\n",
       "        vertical-align: top;\n",
       "    }\n",
       "\n",
       "    .dataframe thead th {\n",
       "        text-align: right;\n",
       "    }\n",
       "</style>\n",
       "<table border=\"1\" class=\"dataframe\">\n",
       "  <thead>\n",
       "    <tr style=\"text-align: right;\">\n",
       "      <th></th>\n",
       "      <th>description</th>\n",
       "      <th>name</th>\n",
       "      <th>created</th>\n",
       "      <th>datastore_active</th>\n",
       "      <th>formato</th>\n",
       "      <th>package_id</th>\n",
       "      <th>state</th>\n",
       "      <th>fecha</th>\n",
       "      <th>revision_id</th>\n",
       "      <th>datastore_contains_all_records_of_source_file</th>\n",
       "      <th>...</th>\n",
       "      <th>set_url_type</th>\n",
       "      <th>ignore_hash</th>\n",
       "      <th>ckan_url</th>\n",
       "      <th>task_created</th>\n",
       "      <th>document_image_upload</th>\n",
       "      <th>document_clear_upload</th>\n",
       "      <th>document_image_url</th>\n",
       "      <th>dia</th>\n",
       "      <th>year</th>\n",
       "      <th>mes</th>\n",
       "    </tr>\n",
       "  </thead>\n",
       "  <tbody>\n",
       "    <tr>\n",
       "      <th>0</th>\n",
       "      <td>Indemnizados del Carbón 2019-INDEMNIZADOS DEL ...</td>\n",
       "      <td>Indemnizados del Carbón 2019</td>\n",
       "      <td>2020-05-22T17:42:58.533295</td>\n",
       "      <td>True</td>\n",
       "      <td>XLSX</td>\n",
       "      <td>e228645e-b207-4a74-b750-462637e8ce46</td>\n",
       "      <td>active</td>\n",
       "      <td>2020-05-22T20:42:58.464441</td>\n",
       "      <td>d10e3c3a-7c74-4dbb-a60c-a6247d1432a2</td>\n",
       "      <td>True</td>\n",
       "      <td>...</td>\n",
       "      <td>False</td>\n",
       "      <td>True</td>\n",
       "      <td>https://prod.datos.gob.cl</td>\n",
       "      <td>2020-11-10 00:27:15.714119</td>\n",
       "      <td>None</td>\n",
       "      <td>None</td>\n",
       "      <td>None</td>\n",
       "      <td>2020-05-22</td>\n",
       "      <td>2020.0</td>\n",
       "      <td>5.0</td>\n",
       "    </tr>\n",
       "    <tr>\n",
       "      <th>1</th>\n",
       "      <td>RESUMEN ANUAL BONIFICACION AL INGRESO ETICO FA...</td>\n",
       "      <td>IEF 2018</td>\n",
       "      <td>2020-05-22T17:34:22.464561</td>\n",
       "      <td>True</td>\n",
       "      <td>CSV</td>\n",
       "      <td>70d50ce9-470f-43c4-a9be-0ed902b680b5</td>\n",
       "      <td>active</td>\n",
       "      <td>2020-05-22T20:34:22.364282</td>\n",
       "      <td>70f9bbc7-90d2-4d73-a394-9cae55852f21</td>\n",
       "      <td>True</td>\n",
       "      <td>...</td>\n",
       "      <td>False</td>\n",
       "      <td>True</td>\n",
       "      <td>https://prod.datos.gob.cl</td>\n",
       "      <td>2020-11-10 00:25:57.917088</td>\n",
       "      <td>None</td>\n",
       "      <td>None</td>\n",
       "      <td>None</td>\n",
       "      <td>2020-05-22</td>\n",
       "      <td>2020.0</td>\n",
       "      <td>5.0</td>\n",
       "    </tr>\n",
       "    <tr>\n",
       "      <th>2</th>\n",
       "      <td>RESUMEN ANUAL BONIFICACION AL INGRESO ETICO FA...</td>\n",
       "      <td>IEF 2018</td>\n",
       "      <td>2020-05-22T17:34:50.361617</td>\n",
       "      <td>True</td>\n",
       "      <td>XLSX</td>\n",
       "      <td>70d50ce9-470f-43c4-a9be-0ed902b680b5</td>\n",
       "      <td>active</td>\n",
       "      <td>2020-05-22T20:34:50.287459</td>\n",
       "      <td>5424cbb6-abb5-46de-9818-ea15bd46f002</td>\n",
       "      <td>True</td>\n",
       "      <td>...</td>\n",
       "      <td>False</td>\n",
       "      <td>True</td>\n",
       "      <td>https://prod.datos.gob.cl</td>\n",
       "      <td>2020-11-10 00:26:00.648670</td>\n",
       "      <td>None</td>\n",
       "      <td>None</td>\n",
       "      <td>None</td>\n",
       "      <td>2020-05-22</td>\n",
       "      <td>2020.0</td>\n",
       "      <td>5.0</td>\n",
       "    </tr>\n",
       "    <tr>\n",
       "      <th>3</th>\n",
       "      <td>RESUMEN ANUAL BONIFICACION AL INGRESO ETICO FA...</td>\n",
       "      <td>IEF 2019</td>\n",
       "      <td>2020-05-22T17:35:15.845787</td>\n",
       "      <td>True</td>\n",
       "      <td>CSV</td>\n",
       "      <td>70d50ce9-470f-43c4-a9be-0ed902b680b5</td>\n",
       "      <td>active</td>\n",
       "      <td>2020-05-22T20:35:54.234423</td>\n",
       "      <td>0af36f46-2bbd-494a-ac9f-e69c5d9fb010</td>\n",
       "      <td>True</td>\n",
       "      <td>...</td>\n",
       "      <td>False</td>\n",
       "      <td>True</td>\n",
       "      <td>https://prod.datos.gob.cl</td>\n",
       "      <td>2020-11-10 00:26:03.353932</td>\n",
       "      <td>None</td>\n",
       "      <td>None</td>\n",
       "      <td>None</td>\n",
       "      <td>2020-05-22</td>\n",
       "      <td>2020.0</td>\n",
       "      <td>5.0</td>\n",
       "    </tr>\n",
       "    <tr>\n",
       "      <th>4</th>\n",
       "      <td>RESUMEN ANUAL BONIFICACION AL INGRESO ETICO FA...</td>\n",
       "      <td>IEF 2019</td>\n",
       "      <td>2020-05-22T17:36:50.986275</td>\n",
       "      <td>True</td>\n",
       "      <td>XLSX</td>\n",
       "      <td>70d50ce9-470f-43c4-a9be-0ed902b680b5</td>\n",
       "      <td>active</td>\n",
       "      <td>2020-05-22T20:36:50.912384</td>\n",
       "      <td>0af36f46-2bbd-494a-ac9f-e69c5d9fb010</td>\n",
       "      <td>True</td>\n",
       "      <td>...</td>\n",
       "      <td>False</td>\n",
       "      <td>True</td>\n",
       "      <td>https://prod.datos.gob.cl</td>\n",
       "      <td>2020-11-10 00:26:06.067385</td>\n",
       "      <td>None</td>\n",
       "      <td>None</td>\n",
       "      <td>None</td>\n",
       "      <td>2020-05-22</td>\n",
       "      <td>2020.0</td>\n",
       "      <td>5.0</td>\n",
       "    </tr>\n",
       "    <tr>\n",
       "      <th>5</th>\n",
       "      <td>RESUMEN ANUAL BONO PROTECCIÓN IEF POR MES, TIP...</td>\n",
       "      <td>BPIEF 2018</td>\n",
       "      <td>2020-05-22T17:22:47.319900</td>\n",
       "      <td>True</td>\n",
       "      <td>CSV</td>\n",
       "      <td>526b468c-4939-4a7c-b1bb-43d1faa5b9b1</td>\n",
       "      <td>active</td>\n",
       "      <td>2020-05-22T20:22:47.233086</td>\n",
       "      <td>ae630bf2-9656-4218-a2b6-684de498c5ef</td>\n",
       "      <td>True</td>\n",
       "      <td>...</td>\n",
       "      <td>False</td>\n",
       "      <td>True</td>\n",
       "      <td>https://prod.datos.gob.cl</td>\n",
       "      <td>2020-11-09 23:57:06.903779</td>\n",
       "      <td>None</td>\n",
       "      <td>None</td>\n",
       "      <td>None</td>\n",
       "      <td>2020-05-22</td>\n",
       "      <td>2020.0</td>\n",
       "      <td>5.0</td>\n",
       "    </tr>\n",
       "    <tr>\n",
       "      <th>6</th>\n",
       "      <td>RESUMEN ANUAL BONO PROTECCIÓN IEF POR MES, TIP...</td>\n",
       "      <td>BPIEF 2018</td>\n",
       "      <td>2020-05-22T17:23:06.681920</td>\n",
       "      <td>True</td>\n",
       "      <td>XLSX</td>\n",
       "      <td>526b468c-4939-4a7c-b1bb-43d1faa5b9b1</td>\n",
       "      <td>active</td>\n",
       "      <td>2020-05-22T20:23:06.612508</td>\n",
       "      <td>270a1acb-7f96-4e33-9c09-fb24dea249d9</td>\n",
       "      <td>True</td>\n",
       "      <td>...</td>\n",
       "      <td>False</td>\n",
       "      <td>True</td>\n",
       "      <td>https://prod.datos.gob.cl</td>\n",
       "      <td>2020-11-09 23:57:11.458486</td>\n",
       "      <td>None</td>\n",
       "      <td>None</td>\n",
       "      <td>None</td>\n",
       "      <td>2020-05-22</td>\n",
       "      <td>2020.0</td>\n",
       "      <td>5.0</td>\n",
       "    </tr>\n",
       "    <tr>\n",
       "      <th>7</th>\n",
       "      <td>RESUMEN ANUAL BONO PROTECCIÓN IEF POR MES, TIP...</td>\n",
       "      <td>BPIEF 2019</td>\n",
       "      <td>2020-05-22T17:23:24.883566</td>\n",
       "      <td>True</td>\n",
       "      <td>CSV</td>\n",
       "      <td>526b468c-4939-4a7c-b1bb-43d1faa5b9b1</td>\n",
       "      <td>active</td>\n",
       "      <td>2020-05-22T20:23:24.770043</td>\n",
       "      <td>7bdb932b-9c97-480d-af03-40e7fd86a0d6</td>\n",
       "      <td>True</td>\n",
       "      <td>...</td>\n",
       "      <td>False</td>\n",
       "      <td>True</td>\n",
       "      <td>https://prod.datos.gob.cl</td>\n",
       "      <td>2020-11-09 23:57:11.488773</td>\n",
       "      <td>None</td>\n",
       "      <td>None</td>\n",
       "      <td>None</td>\n",
       "      <td>2020-05-22</td>\n",
       "      <td>2020.0</td>\n",
       "      <td>5.0</td>\n",
       "    </tr>\n",
       "    <tr>\n",
       "      <th>8</th>\n",
       "      <td>RESUMEN ANUAL BONO PROTECCIÓN IEF POR MES, TIP...</td>\n",
       "      <td>BPIEF 2019</td>\n",
       "      <td>2020-05-22T17:23:42.039276</td>\n",
       "      <td>True</td>\n",
       "      <td>XLSX</td>\n",
       "      <td>526b468c-4939-4a7c-b1bb-43d1faa5b9b1</td>\n",
       "      <td>active</td>\n",
       "      <td>2020-05-22T20:23:41.972252</td>\n",
       "      <td>4ee220fb-9c84-4c6b-adb3-7ee0d8f9c7a8</td>\n",
       "      <td>True</td>\n",
       "      <td>...</td>\n",
       "      <td>False</td>\n",
       "      <td>True</td>\n",
       "      <td>https://prod.datos.gob.cl</td>\n",
       "      <td>2020-11-09 23:57:11.518227</td>\n",
       "      <td>None</td>\n",
       "      <td>None</td>\n",
       "      <td>None</td>\n",
       "      <td>2020-05-22</td>\n",
       "      <td>2020.0</td>\n",
       "      <td>5.0</td>\n",
       "    </tr>\n",
       "    <tr>\n",
       "      <th>9</th>\n",
       "      <td>Bono Bodas de Oro - 2018 -RESUMEN ANUAL BONO B...</td>\n",
       "      <td>BDO 2018</td>\n",
       "      <td>2020-05-22T17:17:40.180401</td>\n",
       "      <td>True</td>\n",
       "      <td>CSV</td>\n",
       "      <td>05826b0c-cac2-4f70-a054-2d4813a78561</td>\n",
       "      <td>active</td>\n",
       "      <td>2020-05-22T20:17:40.118237</td>\n",
       "      <td>9cc91e25-f4a4-4060-979d-39a2c5689a03</td>\n",
       "      <td>True</td>\n",
       "      <td>...</td>\n",
       "      <td>False</td>\n",
       "      <td>True</td>\n",
       "      <td>https://prod.datos.gob.cl</td>\n",
       "      <td>2020-11-09 23:57:06.728246</td>\n",
       "      <td>None</td>\n",
       "      <td>None</td>\n",
       "      <td>None</td>\n",
       "      <td>2020-05-22</td>\n",
       "      <td>2020.0</td>\n",
       "      <td>5.0</td>\n",
       "    </tr>\n",
       "    <tr>\n",
       "      <th>10</th>\n",
       "      <td>Bono Bodas de Oro - 2018 -RESUMEN ANUAL BONO B...</td>\n",
       "      <td>BDO 2018</td>\n",
       "      <td>2020-05-22T17:17:52.408307</td>\n",
       "      <td>True</td>\n",
       "      <td>XLSX</td>\n",
       "      <td>05826b0c-cac2-4f70-a054-2d4813a78561</td>\n",
       "      <td>active</td>\n",
       "      <td>2020-05-22T20:17:52.343297</td>\n",
       "      <td>3cf59176-349e-436d-b9c7-e768a38f332b</td>\n",
       "      <td>True</td>\n",
       "      <td>...</td>\n",
       "      <td>False</td>\n",
       "      <td>True</td>\n",
       "      <td>https://prod.datos.gob.cl</td>\n",
       "      <td>2020-11-09 23:57:06.783330</td>\n",
       "      <td>None</td>\n",
       "      <td>None</td>\n",
       "      <td>None</td>\n",
       "      <td>2020-05-22</td>\n",
       "      <td>2020.0</td>\n",
       "      <td>5.0</td>\n",
       "    </tr>\n",
       "    <tr>\n",
       "      <th>11</th>\n",
       "      <td>Bono Bodas de Oro - 2019 -RESUMEN ANUAL BONO B...</td>\n",
       "      <td>BDO 2019</td>\n",
       "      <td>2020-05-22T17:18:07.576098</td>\n",
       "      <td>True</td>\n",
       "      <td>CSV</td>\n",
       "      <td>05826b0c-cac2-4f70-a054-2d4813a78561</td>\n",
       "      <td>active</td>\n",
       "      <td>2020-05-22T20:18:07.469978</td>\n",
       "      <td>fb54ad23-a12e-4a2d-bcba-8acccd57aa24</td>\n",
       "      <td>True</td>\n",
       "      <td>...</td>\n",
       "      <td>False</td>\n",
       "      <td>True</td>\n",
       "      <td>https://prod.datos.gob.cl</td>\n",
       "      <td>2020-11-09 23:57:06.816872</td>\n",
       "      <td>None</td>\n",
       "      <td>None</td>\n",
       "      <td>None</td>\n",
       "      <td>2020-05-22</td>\n",
       "      <td>2020.0</td>\n",
       "      <td>5.0</td>\n",
       "    </tr>\n",
       "    <tr>\n",
       "      <th>12</th>\n",
       "      <td>Bono Bodas de Oro - 2019 -RESUMEN ANUAL BONO B...</td>\n",
       "      <td>BDO 2019</td>\n",
       "      <td>2020-05-22T17:18:20.527840</td>\n",
       "      <td>True</td>\n",
       "      <td>XLSX</td>\n",
       "      <td>05826b0c-cac2-4f70-a054-2d4813a78561</td>\n",
       "      <td>active</td>\n",
       "      <td>2020-05-22T20:18:20.425872</td>\n",
       "      <td>387e2695-0c08-4990-8af7-dfb6978bbf63</td>\n",
       "      <td>True</td>\n",
       "      <td>...</td>\n",
       "      <td>False</td>\n",
       "      <td>True</td>\n",
       "      <td>https://prod.datos.gob.cl</td>\n",
       "      <td>2020-11-09 23:57:06.847437</td>\n",
       "      <td>None</td>\n",
       "      <td>None</td>\n",
       "      <td>None</td>\n",
       "      <td>2020-05-22</td>\n",
       "      <td>2020.0</td>\n",
       "      <td>5.0</td>\n",
       "    </tr>\n",
       "    <tr>\n",
       "      <th>13</th>\n",
       "      <td>APS Internos 2018 - RESUMEN ANUAL APORTE PREVI...</td>\n",
       "      <td>APS Internos 2018</td>\n",
       "      <td>2020-05-22T17:11:56.188625</td>\n",
       "      <td>True</td>\n",
       "      <td>CSV</td>\n",
       "      <td>82cf0168-5b77-4a13-91b3-5a3ac4dd3bc9</td>\n",
       "      <td>active</td>\n",
       "      <td>2020-05-22T20:11:56.074955</td>\n",
       "      <td>02f9ce34-d1ff-4d70-b582-460640aecca4</td>\n",
       "      <td>True</td>\n",
       "      <td>...</td>\n",
       "      <td>False</td>\n",
       "      <td>True</td>\n",
       "      <td>https://prod.datos.gob.cl</td>\n",
       "      <td>2020-11-09 23:56:48.611656</td>\n",
       "      <td>None</td>\n",
       "      <td>None</td>\n",
       "      <td>None</td>\n",
       "      <td>2020-05-22</td>\n",
       "      <td>2020.0</td>\n",
       "      <td>5.0</td>\n",
       "    </tr>\n",
       "    <tr>\n",
       "      <th>14</th>\n",
       "      <td>APS Internos 2018 - RESUMEN ANUAL APORTE PREVI...</td>\n",
       "      <td>APS Internos 2018</td>\n",
       "      <td>2020-05-22T17:12:11.176073</td>\n",
       "      <td>True</td>\n",
       "      <td>XLSX</td>\n",
       "      <td>82cf0168-5b77-4a13-91b3-5a3ac4dd3bc9</td>\n",
       "      <td>active</td>\n",
       "      <td>2020-05-22T20:12:11.076042</td>\n",
       "      <td>fb694064-720f-4d63-b06a-6e9573413185</td>\n",
       "      <td>True</td>\n",
       "      <td>...</td>\n",
       "      <td>False</td>\n",
       "      <td>True</td>\n",
       "      <td>https://prod.datos.gob.cl</td>\n",
       "      <td>2020-11-09 23:56:48.675420</td>\n",
       "      <td>None</td>\n",
       "      <td>None</td>\n",
       "      <td>None</td>\n",
       "      <td>2020-05-22</td>\n",
       "      <td>2020.0</td>\n",
       "      <td>5.0</td>\n",
       "    </tr>\n",
       "  </tbody>\n",
       "</table>\n",
       "<p>15 rows × 29 columns</p>\n",
       "</div>"
      ],
      "text/plain": [
       "                                          description  \\\n",
       "0   Indemnizados del Carbón 2019-INDEMNIZADOS DEL ...   \n",
       "1   RESUMEN ANUAL BONIFICACION AL INGRESO ETICO FA...   \n",
       "2   RESUMEN ANUAL BONIFICACION AL INGRESO ETICO FA...   \n",
       "3   RESUMEN ANUAL BONIFICACION AL INGRESO ETICO FA...   \n",
       "4   RESUMEN ANUAL BONIFICACION AL INGRESO ETICO FA...   \n",
       "5   RESUMEN ANUAL BONO PROTECCIÓN IEF POR MES, TIP...   \n",
       "6   RESUMEN ANUAL BONO PROTECCIÓN IEF POR MES, TIP...   \n",
       "7   RESUMEN ANUAL BONO PROTECCIÓN IEF POR MES, TIP...   \n",
       "8   RESUMEN ANUAL BONO PROTECCIÓN IEF POR MES, TIP...   \n",
       "9   Bono Bodas de Oro - 2018 -RESUMEN ANUAL BONO B...   \n",
       "10  Bono Bodas de Oro - 2018 -RESUMEN ANUAL BONO B...   \n",
       "11  Bono Bodas de Oro - 2019 -RESUMEN ANUAL BONO B...   \n",
       "12  Bono Bodas de Oro - 2019 -RESUMEN ANUAL BONO B...   \n",
       "13  APS Internos 2018 - RESUMEN ANUAL APORTE PREVI...   \n",
       "14  APS Internos 2018 - RESUMEN ANUAL APORTE PREVI...   \n",
       "\n",
       "                            name                     created  \\\n",
       "0   Indemnizados del Carbón 2019  2020-05-22T17:42:58.533295   \n",
       "1                       IEF 2018  2020-05-22T17:34:22.464561   \n",
       "2                       IEF 2018  2020-05-22T17:34:50.361617   \n",
       "3                       IEF 2019  2020-05-22T17:35:15.845787   \n",
       "4                       IEF 2019  2020-05-22T17:36:50.986275   \n",
       "5                     BPIEF 2018  2020-05-22T17:22:47.319900   \n",
       "6                     BPIEF 2018  2020-05-22T17:23:06.681920   \n",
       "7                     BPIEF 2019  2020-05-22T17:23:24.883566   \n",
       "8                     BPIEF 2019  2020-05-22T17:23:42.039276   \n",
       "9                       BDO 2018  2020-05-22T17:17:40.180401   \n",
       "10                      BDO 2018  2020-05-22T17:17:52.408307   \n",
       "11                      BDO 2019  2020-05-22T17:18:07.576098   \n",
       "12                      BDO 2019  2020-05-22T17:18:20.527840   \n",
       "13             APS Internos 2018  2020-05-22T17:11:56.188625   \n",
       "14             APS Internos 2018  2020-05-22T17:12:11.176073   \n",
       "\n",
       "    datastore_active formato                            package_id   state  \\\n",
       "0               True    XLSX  e228645e-b207-4a74-b750-462637e8ce46  active   \n",
       "1               True     CSV  70d50ce9-470f-43c4-a9be-0ed902b680b5  active   \n",
       "2               True    XLSX  70d50ce9-470f-43c4-a9be-0ed902b680b5  active   \n",
       "3               True     CSV  70d50ce9-470f-43c4-a9be-0ed902b680b5  active   \n",
       "4               True    XLSX  70d50ce9-470f-43c4-a9be-0ed902b680b5  active   \n",
       "5               True     CSV  526b468c-4939-4a7c-b1bb-43d1faa5b9b1  active   \n",
       "6               True    XLSX  526b468c-4939-4a7c-b1bb-43d1faa5b9b1  active   \n",
       "7               True     CSV  526b468c-4939-4a7c-b1bb-43d1faa5b9b1  active   \n",
       "8               True    XLSX  526b468c-4939-4a7c-b1bb-43d1faa5b9b1  active   \n",
       "9               True     CSV  05826b0c-cac2-4f70-a054-2d4813a78561  active   \n",
       "10              True    XLSX  05826b0c-cac2-4f70-a054-2d4813a78561  active   \n",
       "11              True     CSV  05826b0c-cac2-4f70-a054-2d4813a78561  active   \n",
       "12              True    XLSX  05826b0c-cac2-4f70-a054-2d4813a78561  active   \n",
       "13              True     CSV  82cf0168-5b77-4a13-91b3-5a3ac4dd3bc9  active   \n",
       "14              True    XLSX  82cf0168-5b77-4a13-91b3-5a3ac4dd3bc9  active   \n",
       "\n",
       "                         fecha                           revision_id  \\\n",
       "0   2020-05-22T20:42:58.464441  d10e3c3a-7c74-4dbb-a60c-a6247d1432a2   \n",
       "1   2020-05-22T20:34:22.364282  70f9bbc7-90d2-4d73-a394-9cae55852f21   \n",
       "2   2020-05-22T20:34:50.287459  5424cbb6-abb5-46de-9818-ea15bd46f002   \n",
       "3   2020-05-22T20:35:54.234423  0af36f46-2bbd-494a-ac9f-e69c5d9fb010   \n",
       "4   2020-05-22T20:36:50.912384  0af36f46-2bbd-494a-ac9f-e69c5d9fb010   \n",
       "5   2020-05-22T20:22:47.233086  ae630bf2-9656-4218-a2b6-684de498c5ef   \n",
       "6   2020-05-22T20:23:06.612508  270a1acb-7f96-4e33-9c09-fb24dea249d9   \n",
       "7   2020-05-22T20:23:24.770043  7bdb932b-9c97-480d-af03-40e7fd86a0d6   \n",
       "8   2020-05-22T20:23:41.972252  4ee220fb-9c84-4c6b-adb3-7ee0d8f9c7a8   \n",
       "9   2020-05-22T20:17:40.118237  9cc91e25-f4a4-4060-979d-39a2c5689a03   \n",
       "10  2020-05-22T20:17:52.343297  3cf59176-349e-436d-b9c7-e768a38f332b   \n",
       "11  2020-05-22T20:18:07.469978  fb54ad23-a12e-4a2d-bcba-8acccd57aa24   \n",
       "12  2020-05-22T20:18:20.425872  387e2695-0c08-4990-8af7-dfb6978bbf63   \n",
       "13  2020-05-22T20:11:56.074955  02f9ce34-d1ff-4d70-b582-460640aecca4   \n",
       "14  2020-05-22T20:12:11.076042  fb694064-720f-4d63-b06a-6e9573413185   \n",
       "\n",
       "   datastore_contains_all_records_of_source_file  ... set_url_type  \\\n",
       "0                                           True  ...        False   \n",
       "1                                           True  ...        False   \n",
       "2                                           True  ...        False   \n",
       "3                                           True  ...        False   \n",
       "4                                           True  ...        False   \n",
       "5                                           True  ...        False   \n",
       "6                                           True  ...        False   \n",
       "7                                           True  ...        False   \n",
       "8                                           True  ...        False   \n",
       "9                                           True  ...        False   \n",
       "10                                          True  ...        False   \n",
       "11                                          True  ...        False   \n",
       "12                                          True  ...        False   \n",
       "13                                          True  ...        False   \n",
       "14                                          True  ...        False   \n",
       "\n",
       "   ignore_hash                   ckan_url                task_created  \\\n",
       "0         True  https://prod.datos.gob.cl  2020-11-10 00:27:15.714119   \n",
       "1         True  https://prod.datos.gob.cl  2020-11-10 00:25:57.917088   \n",
       "2         True  https://prod.datos.gob.cl  2020-11-10 00:26:00.648670   \n",
       "3         True  https://prod.datos.gob.cl  2020-11-10 00:26:03.353932   \n",
       "4         True  https://prod.datos.gob.cl  2020-11-10 00:26:06.067385   \n",
       "5         True  https://prod.datos.gob.cl  2020-11-09 23:57:06.903779   \n",
       "6         True  https://prod.datos.gob.cl  2020-11-09 23:57:11.458486   \n",
       "7         True  https://prod.datos.gob.cl  2020-11-09 23:57:11.488773   \n",
       "8         True  https://prod.datos.gob.cl  2020-11-09 23:57:11.518227   \n",
       "9         True  https://prod.datos.gob.cl  2020-11-09 23:57:06.728246   \n",
       "10        True  https://prod.datos.gob.cl  2020-11-09 23:57:06.783330   \n",
       "11        True  https://prod.datos.gob.cl  2020-11-09 23:57:06.816872   \n",
       "12        True  https://prod.datos.gob.cl  2020-11-09 23:57:06.847437   \n",
       "13        True  https://prod.datos.gob.cl  2020-11-09 23:56:48.611656   \n",
       "14        True  https://prod.datos.gob.cl  2020-11-09 23:56:48.675420   \n",
       "\n",
       "   document_image_upload document_clear_upload document_image_url         dia  \\\n",
       "0                   None                  None               None  2020-05-22   \n",
       "1                   None                  None               None  2020-05-22   \n",
       "2                   None                  None               None  2020-05-22   \n",
       "3                   None                  None               None  2020-05-22   \n",
       "4                   None                  None               None  2020-05-22   \n",
       "5                   None                  None               None  2020-05-22   \n",
       "6                   None                  None               None  2020-05-22   \n",
       "7                   None                  None               None  2020-05-22   \n",
       "8                   None                  None               None  2020-05-22   \n",
       "9                   None                  None               None  2020-05-22   \n",
       "10                  None                  None               None  2020-05-22   \n",
       "11                  None                  None               None  2020-05-22   \n",
       "12                  None                  None               None  2020-05-22   \n",
       "13                  None                  None               None  2020-05-22   \n",
       "14                  None                  None               None  2020-05-22   \n",
       "\n",
       "      year  mes  \n",
       "0   2020.0  5.0  \n",
       "1   2020.0  5.0  \n",
       "2   2020.0  5.0  \n",
       "3   2020.0  5.0  \n",
       "4   2020.0  5.0  \n",
       "5   2020.0  5.0  \n",
       "6   2020.0  5.0  \n",
       "7   2020.0  5.0  \n",
       "8   2020.0  5.0  \n",
       "9   2020.0  5.0  \n",
       "10  2020.0  5.0  \n",
       "11  2020.0  5.0  \n",
       "12  2020.0  5.0  \n",
       "13  2020.0  5.0  \n",
       "14  2020.0  5.0  \n",
       "\n",
       "[15 rows x 29 columns]"
      ]
     },
     "execution_count": 55,
     "metadata": {},
     "output_type": "execute_result"
    }
   ],
   "source": [
    "es.test_index(i[0],n=15)"
   ]
  },
  {
   "cell_type": "code",
   "execution_count": 56,
   "metadata": {},
   "outputs": [
    {
     "data": {
      "text/plain": [
       "['ckan', '.security-7', '.kibana_1']"
      ]
     },
     "execution_count": 56,
     "metadata": {},
     "output_type": "execute_result"
    }
   ],
   "source": [
    "es.list_indices()"
   ]
  }
 ],
 "metadata": {
  "kernelspec": {
   "display_name": "Python 3",
   "language": "python",
   "name": "python3"
  },
  "language_info": {
   "codemirror_mode": {
    "name": "ipython",
    "version": 3
   },
   "file_extension": ".py",
   "mimetype": "text/x-python",
   "name": "python",
   "nbconvert_exporter": "python",
   "pygments_lexer": "ipython3",
   "version": "3.8.6"
  }
 },
 "nbformat": 4,
 "nbformat_minor": 2
}
